{
 "cells": [
  {
   "cell_type": "markdown",
   "metadata": {},
   "source": [
    "# Object Oriented Programming (OOP)\n",
    "By:<a href='https://www.youtube.com/wonkyCode'>WonkyCode</a>\n",
    "\n",
    "* Object Oriented Programming is a Computer Programming model or a Paradigm that organizes software design around data or objects rather than functions and logic.\n",
    "* An Object can be defined as a data field that has unique attributes and behaviour.\n",
    "* Python is a multi-paradigm programming language. It supports different programming approaches.\n",
    "* One of the popular approaches to solve a programming problem is by creating objects. This is know as Object Oriented Programming.\n",
    "* An object has two characteristics:\n",
    "    1. Attributes\n",
    "    2. Behaviour\n",
    "    \n",
    "* The Concept of OOP in Python focuses on reusable code. This concept is also known as DRY (Don't Repeat Yourself.)\n",
    "    \n",
    "**Example**    \n",
    "* A Person or a Bird can be an object as it has the following properties\n",
    "    1. name, age, color as Attributes\n",
    "    2. singing, dancing as Behaviour"
   ]
  },
  {
   "cell_type": "markdown",
   "metadata": {},
   "source": [
    "## Advantages of OOP\n",
    "\n",
    "* **Simplicity:** software objects model real world objects, so the complexity is reduced and the program structure is very clear.\n",
    "* **Modularity:** each object forms a separate entity whose internal workings are decoupled from other parts of the system. \n",
    "* **Modifiability:** it is easy to make minor changes in the data representation or the procedures in an OO program. Changes inside a class do not affect any other part of a program, since the only public interface that the external world has to a class is through the use of methods. \n",
    "* **Extensibility:** adding new features or responding to changing operating environments can be solved by introducing a few new objects and modifying some existing ones. \n",
    "* **Maintainability:** objects can be maintained separately, making locating and fixing problems easier. \n",
    "* **Re-usability:** objects can be reused in different programs"
   ]
  },
  {
   "cell_type": "code",
   "execution_count": null,
   "metadata": {},
   "outputs": [],
   "source": []
  }
 ],
 "metadata": {
  "kernelspec": {
   "display_name": "Python 3 (ipykernel)",
   "language": "python",
   "name": "python3"
  },
  "language_info": {
   "codemirror_mode": {
    "name": "ipython",
    "version": 3
   },
   "file_extension": ".py",
   "mimetype": "text/x-python",
   "name": "python",
   "nbconvert_exporter": "python",
   "pygments_lexer": "ipython3",
   "version": "3.10.12"
  }
 },
 "nbformat": 4,
 "nbformat_minor": 4
}
