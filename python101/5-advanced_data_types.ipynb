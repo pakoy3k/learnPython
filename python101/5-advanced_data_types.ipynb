{
 "cells": [
  {
   "cell_type": "markdown",
   "metadata": {
    "id": "fFi_Guc3DZDX"
   },
   "source": [
    "<font color=\"white\">.</font> | <font color=\"white\">.</font> | <font color=\"white\">.</font>\n",
    "-- | -- | --\n",
    "![NASA](http://www.nasa.gov/sites/all/themes/custom/nasatwo/images/nasa-logo.svg) | <h1><font size=\"+3\">ASTG Python Courses</font></h1> | ![NASA](https://www.nccs.nasa.gov/sites/default/files/NCCS_Logo_0.png)\n",
    "\n",
    "---\n",
    "\n",
    "<center><h1>\n",
    "    <font color=\"red\">Python Data Structures</font>  \n",
    "</h1></center>"
   ]
  },
  {
   "cell_type": "markdown",
   "metadata": {
    "id": "fuEgZ0I3Ftme"
   },
   "source": [
    "Python has four basic inbuilt data structures:\n",
    "* Lists\n",
    "* Dictionary\n",
    "* Tuple\n",
    "* Set"
   ]
  },
  {
   "cell_type": "markdown",
   "metadata": {
    "id": "YxPbzlnWDZDb"
   },
   "source": [
    "## <font color=\"red\">Lists</font>"
   ]
  },
  {
   "cell_type": "markdown",
   "metadata": {
    "id": "9reCLtl1DZDd"
   },
   "source": [
    "* A list is data structure that holds ordered collections of related data. \n",
    "* Elements can be accessed by index.\n",
    "* Grow and shrink as needed.\n",
    "* <font color='blue'> Can contain a mix of types </font>\n",
    "* <font color='blue'>Are mutable</font>: you can change their content without changing their identity."
   ]
  },
  {
   "cell_type": "markdown",
   "metadata": {
    "id": "bONKmp4rDZDf"
   },
   "source": [
    "**Initialization**\n",
    "\n",
    "An empty list:"
   ]
  },
  {
   "cell_type": "code",
   "execution_count": null,
   "metadata": {
    "id": "WURerza5DZDh"
   },
   "outputs": [],
   "source": [
    "empty_list = list()"
   ]
  },
  {
   "cell_type": "code",
   "execution_count": null,
   "metadata": {
    "id": "8K7MfhHZDZDm",
    "scrolled": true
   },
   "outputs": [],
   "source": [
    "some_primes = [2, 3, 5, 7, 11, 13, 17, 19]\n",
    "fruits = ['apple', 'mango', 'orange', 'kiwi', 'blueberry']"
   ]
  },
  {
   "cell_type": "markdown",
   "metadata": {
    "id": "Z4-nAtBADZDs"
   },
   "source": [
    "**Access elements**"
   ]
  },
  {
   "cell_type": "code",
   "execution_count": null,
   "metadata": {
    "id": "6Ze0I4lqDZDu",
    "scrolled": true
   },
   "outputs": [],
   "source": [
    "print(fruits[1])"
   ]
  },
  {
   "cell_type": "code",
   "execution_count": null,
   "metadata": {
    "id": "QWC7CedXFtmp",
    "scrolled": true
   },
   "outputs": [],
   "source": [
    "print(fruits[-1])"
   ]
  },
  {
   "cell_type": "code",
   "execution_count": null,
   "metadata": {
    "id": "D_1diE9KFtmq",
    "scrolled": true
   },
   "outputs": [],
   "source": [
    "print(fruits[2:4])"
   ]
  },
  {
   "cell_type": "code",
   "execution_count": null,
   "metadata": {
    "id": "fx8QBi5zFtmr",
    "scrolled": true
   },
   "outputs": [],
   "source": [
    "print(some_primes[0::2])"
   ]
  },
  {
   "cell_type": "markdown",
   "metadata": {
    "id": "Sz8EnJZkFtmr"
   },
   "source": [
    "**Iterate over a List**\n",
    "\n",
    "This is how one iterates over a list:"
   ]
  },
  {
   "cell_type": "code",
   "execution_count": null,
   "metadata": {
    "id": "cDBLPNRiFtms"
   },
   "outputs": [],
   "source": [
    "for item in fruits:        \n",
    "    print(item)"
   ]
  },
  {
   "cell_type": "markdown",
   "metadata": {
    "id": "23Jb1X9vFtmt"
   },
   "source": [
    "Print the items on the list in reversed order:"
   ]
  },
  {
   "cell_type": "code",
   "execution_count": null,
   "metadata": {
    "id": "1LYOx-d-Ftmt"
   },
   "outputs": [],
   "source": [
    "for item in (range(len(fruits)-1, -1, -1)):        \n",
    "    print(fruits[item])"
   ]
  },
  {
   "cell_type": "markdown",
   "metadata": {
    "id": "L9P2nyCHFtmu"
   },
   "source": [
    "Same as above:"
   ]
  },
  {
   "cell_type": "code",
   "execution_count": null,
   "metadata": {
    "id": "YC21rmmhFtmv"
   },
   "outputs": [],
   "source": [
    "for item in reversed(fruits):        \n",
    "    print(item)"
   ]
  },
  {
   "cell_type": "markdown",
   "metadata": {
    "id": "zVRjhSStFtmv"
   },
   "source": [
    "Sometimes we need to loop over a list and retrieve the element and its correponding index."
   ]
  },
  {
   "cell_type": "code",
   "execution_count": null,
   "metadata": {
    "id": "GYCJGFaGFtmw"
   },
   "outputs": [],
   "source": [
    "for i in range(len(fruits)):\n",
    "    print ('{} ---> {}'.format(i, fruits[i]))"
   ]
  },
  {
   "cell_type": "markdown",
   "metadata": {
    "id": "wSv6ebOdFtmx"
   },
   "source": [
    "The `enumerate` function  gives us an iterable where each element is an object (called a tuple) that contains the index of the item and the original item value."
   ]
  },
  {
   "cell_type": "code",
   "execution_count": null,
   "metadata": {
    "id": "5Z3f7OAxFtmx"
   },
   "outputs": [],
   "source": [
    "for i, name in enumerate(fruits, start=1): # optional start=1 argument\n",
    "    print (\"item {}: {}\".format(i, name))"
   ]
  },
  {
   "cell_type": "markdown",
   "metadata": {
    "id": "HsKMWG3HFtmx"
   },
   "source": [
    "Looping over two lists."
   ]
  },
  {
   "cell_type": "code",
   "execution_count": null,
   "metadata": {
    "id": "0361w2zVFtmy"
   },
   "outputs": [],
   "source": [
    "colors = ['red', 'yellow','orange', 'green', 'blue']\n",
    "for i in range(len(fruits)):\n",
    "    print('{} ---> {}'.format(fruits[i], colors[i]))"
   ]
  },
  {
   "cell_type": "markdown",
   "metadata": {
    "id": "t6QFD_HZFtmz"
   },
   "source": [
    "Use the `zip()` function"
   ]
  },
  {
   "cell_type": "code",
   "execution_count": null,
   "metadata": {
    "id": "0euId2XLFtmz"
   },
   "outputs": [],
   "source": [
    "for item, color in zip(fruits, colors):\n",
    "    print('{} ---> {}'.format(item, color))"
   ]
  },
  {
   "cell_type": "markdown",
   "metadata": {
    "id": "H4n-txfdFtmz"
   },
   "source": [
    "Finding the index of an item:"
   ]
  },
  {
   "cell_type": "code",
   "execution_count": null,
   "metadata": {
    "id": "QIxXFqR4Ftm0"
   },
   "outputs": [],
   "source": [
    "print(fruits.index('orange'))"
   ]
  },
  {
   "cell_type": "code",
   "execution_count": null,
   "metadata": {
    "id": "V2NZ8Ru6Ftm0"
   },
   "outputs": [],
   "source": [
    "for item in fruits:        \n",
    "    print('{} ---> {}'.format(fruits.index(item), item))"
   ]
  },
  {
   "cell_type": "markdown",
   "metadata": {
    "id": "-vTpos3jFtm1"
   },
   "source": [
    "**Lists are Mutable**\n",
    "\n",
    "- We use the `id` function that returns a unique id for the specified object.\n",
    "- Each Python object has its own unique id.\n",
    "- The id is assigned to the object when it is created.\n",
    "- The id is the object's memory address, and will be different for each time you run the program."
   ]
  },
  {
   "cell_type": "code",
   "execution_count": null,
   "metadata": {
    "id": "yQ4f6IyIFtm1"
   },
   "outputs": [],
   "source": [
    "print('I have {} fruits'.format(len(fruits)))\n",
    "print('    --> The list ID is {}'.format(id(fruits)))"
   ]
  },
  {
   "cell_type": "code",
   "execution_count": null,
   "metadata": {
    "id": "OOOei7YDFtm5"
   },
   "outputs": [],
   "source": [
    "print ('I also have to buy a banana.')\n",
    "fruits.append('banana')\n",
    "print('My list of fruits is now: {}'.format(fruits))\n",
    "print('       --> The list ID is: {}'.format(id(fruits)))"
   ]
  },
  {
   "cell_type": "code",
   "execution_count": null,
   "metadata": {
    "id": "pSOe9fWtFtm5"
   },
   "outputs": [],
   "source": [
    "print ('I will sort my list now')\n",
    "fruits.sort() \n",
    "# Note that the sort is done ON the list, i.e. it is mutated\n",
    "print('Sorted list of fruits is: {}'.format(fruits))\n",
    "print('      --> The list ID is: {}'.format(id(fruits)))"
   ]
  },
  {
   "cell_type": "markdown",
   "metadata": {
    "id": "pyEKHG9hFtm6"
   },
   "source": [
    "**Editing Lists**"
   ]
  },
  {
   "cell_type": "markdown",
   "metadata": {
    "id": "13NG3z1XFtm6"
   },
   "source": [
    "Adding an item: `append()`"
   ]
  },
  {
   "cell_type": "code",
   "execution_count": null,
   "metadata": {
    "id": "pV7OL401Ftm7"
   },
   "outputs": [],
   "source": [
    "fruits.append('apple')\n",
    "print(fruits)"
   ]
  },
  {
   "cell_type": "markdown",
   "metadata": {
    "id": "to9YaYIjFtm7"
   },
   "source": [
    "Extending (like +) a list: `extend()`"
   ]
  },
  {
   "cell_type": "code",
   "execution_count": null,
   "metadata": {
    "id": "GM8BIcOVFtm8"
   },
   "outputs": [],
   "source": [
    "morefruits = ['guava', 'peach']\n",
    "fruits.extend(morefruits)\n",
    "print (fruits)"
   ]
  },
  {
   "cell_type": "markdown",
   "metadata": {
    "id": "P0tPNgfHFtm8"
   },
   "source": [
    "Inserting an item in a list: `insert(index, item)`"
   ]
  },
  {
   "cell_type": "code",
   "execution_count": null,
   "metadata": {
    "id": "JZk8o8pDFtm9"
   },
   "outputs": [],
   "source": [
    "fruits.insert(2, 'pineapple')\n",
    "print(fruits)"
   ]
  },
  {
   "cell_type": "markdown",
   "metadata": {
    "id": "gDGwn99PFtm9"
   },
   "source": [
    "Deleting the an entry: `pop()`"
   ]
  },
  {
   "cell_type": "code",
   "execution_count": null,
   "metadata": {
    "id": "PdyOW-KZFtm-"
   },
   "outputs": [],
   "source": [
    "# Last entry\n",
    "fruits.pop()\n",
    "print(fruits)"
   ]
  },
  {
   "cell_type": "code",
   "execution_count": null,
   "metadata": {
    "id": "tHpcOXGyFtm-"
   },
   "outputs": [],
   "source": [
    "# Specific entry\n",
    "fruits.pop(2)\n",
    "print(fruits)"
   ]
  },
  {
   "cell_type": "markdown",
   "metadata": {
    "id": "lX7kirSuFtm_"
   },
   "source": [
    "Deleting the entire list and create an empty list: `clear()`"
   ]
  },
  {
   "cell_type": "code",
   "execution_count": null,
   "metadata": {
    "id": "QC2ChsbuFtm_"
   },
   "outputs": [],
   "source": [
    "fruits.clear()\n",
    "print(fruits)"
   ]
  },
  {
   "cell_type": "markdown",
   "metadata": {
    "id": "dvw3sM3NFtm_"
   },
   "source": [
    "#### Lists are flexible containers"
   ]
  },
  {
   "cell_type": "code",
   "execution_count": null,
   "metadata": {
    "id": "8kX79KMFDZE5"
   },
   "outputs": [],
   "source": [
    "# Mixed types\n",
    "P = ['Wednesday', 'April', 5, 2017, ('a','b','c')]\n",
    "print (P[0:4])\n",
    "print (P[4])"
   ]
  },
  {
   "cell_type": "code",
   "execution_count": null,
   "metadata": {
    "id": "Km5Al1QcDZE8"
   },
   "outputs": [],
   "source": [
    "# Multi-dimensional list\n",
    "A = [[1, 3], [2, 4], [1, 9], [4, 16]]\n",
    "print (A[0])\n",
    "print (A[2][0])"
   ]
  },
  {
   "cell_type": "markdown",
   "metadata": {
    "id": "8s9iVCMZFtnB"
   },
   "source": [
    "**Basic List Operations**"
   ]
  },
  {
   "cell_type": "markdown",
   "metadata": {
    "id": "JZ0AauMYFtnB"
   },
   "source": [
    "| **Python Expression** | **Results** | **Description** |\n",
    "| --- | --- | --- |\n",
    "| len([1, 2, 3]) | 3 | Length |\n",
    "| [1, 2, 3] + [4, 5, 6] | [1, 2, 3, 4, 5, 6] | Concatenation| \n",
    "| ['Hi!'] * 4 | ['Hi!', 'Hi!', 'Hi!', 'Hi!'] | Repetition | \n",
    "| 3 in [1, 2, 3] | True | Membership | \n",
    "| for x in [1, 2, 3]: print(x)  | 1 2 3 | Iteration | "
   ]
  },
  {
   "cell_type": "markdown",
   "metadata": {
    "id": "IM4N10H4DZE_"
   },
   "source": [
    "#### Exercise 1\n",
    "\n",
    "```python\n",
    "   fruits = ['apple', 'mango', 'orange', 'kiwi', 'blueberry']\n",
    "```\n",
    "* Assign `fruits` to `fruits2` and print both lists\n",
    "* Use list operations to remove the `'orange'` from the `fruits` list.\n",
    "* Print both lists - does the  output make sense?"
   ]
  },
  {
   "cell_type": "markdown",
   "metadata": {
    "id": "svv8kYuLFtnC"
   },
   "source": [
    "<details><summary><b>Click here to access the solution</b></summary>\n",
    "<p>\n",
    "\n",
    "```python\n",
    "fruits = ['apple', 'mango', 'orange', 'kiwi', 'blueberry']\n",
    "fruits2 = fruits\n",
    "    \n",
    "idx = fruits.index('orange')\n",
    "fruits.pop(idx)\n",
    "print(\"Fruits:   \", fruits)\n",
    "print(\"Fruits-2: \", fruits2)\n",
    "```\n",
    "    \n",
    "</p>\n",
    "</details>"
   ]
  },
  {
   "cell_type": "markdown",
   "metadata": {
    "id": "KLa_j6fqFtnC"
   },
   "source": [
    "#### Exercise 2\n",
    "\n",
    "Consider the list (below) of American presidents.\n",
    "\n",
    "1. Print in chronological order the ranks and the names of presidents\n",
    "2. Randomly select a president from the list and print his rank.\n",
    "3. Randomly select a president and print the one immediately before him and the one immediately after him."
   ]
  },
  {
   "cell_type": "code",
   "execution_count": null,
   "metadata": {
    "id": "UXpMQnQTFtnC"
   },
   "outputs": [],
   "source": [
    "list_presidents = [\"Joe Biden\" , \"Donald Trump\" , \"Barack Obama\" , \"George W. Bush\" , \"Bill Clinton\" , \n",
    "                   \"George H.W. Bush\" , \"Ronald Reagan\" , \"Jimmy Carter\" , \"Gerald Ford\" , \n",
    "                   \"Richard Nixon\" , \"Lyndon B. Johnson\" , \"John F. Kennedy\" , \n",
    "                   \"Dwight D. Eisenhower\", \"Harry S. Truman\" , \"Franklin D. Roosevelt\" , \n",
    "                   \"Herbert Hoover\" , \"Calvin Coolidge\" , \"Warren G. Harding\" , \n",
    "                   \"Woodrow Wilson\" , \"Howard Taft\" , \"Theodore Roosevelt\" , \n",
    "                   \"William McKinley\" , \"Grover Cleveland\" , \"Benjamin Harrison\" , \n",
    "                   \"Grover Cleveland\" , \"Chester A. Arthur\" , \"James Garfield\" , \n",
    "                   \"Rutherford B. Hayes\" , \"Ulysses S. Grant\" , \"Andrew Johnson\" , \n",
    "                   \"Abraham Lincoln\" , \"James Buchanan\" , \"Franklin Pierce\" , \n",
    "                   \"Millard Fillmore\", \"Zachary Taylor\" , \"James K. Polk\" , \n",
    "                   \"John Tyler\" , \"William Henry Harrison\" , \"Martin Van Buren\" , \n",
    "                   \"Andrew Jackson\" , \"John Quincy Adams\" , \"James Monroe\" , \n",
    "                   \"James Madison\" , \"Thomas Jefferson\" , \"John Adams\" , \"George Washington\"]"
   ]
  },
  {
   "cell_type": "markdown",
   "metadata": {
    "id": "vJ_hXdYSFtnD"
   },
   "source": [
    "<details><summary><b>Click here to access the solution</b></summary>\n",
    "<p>\n",
    "\n",
    "```python\n",
    "for item, president in enumerate(reversed(list_presidents), start=1):\n",
    "    print(\"{:>3} --> {}\".format(item, president))\n",
    "\n",
    "n = len(list_presidents)\n",
    "    \n",
    "import random\n",
    "president = random.choice(list_presidents)\n",
    "idx = list_presidents.index(president)\n",
    "print(\"Selected president: \", n-idx, president)\n",
    "\n",
    "if idx > 0:\n",
    "    print(\"President after:    \", list_presidents[idx-1])\n",
    "else:\n",
    "    print(\"There is no President after {}\".format(president))\n",
    "\n",
    "if idx < n-1:\n",
    "    print(\"President before:    \", list_presidents[idx+1])\n",
    "else:\n",
    "    print(\"There is no President before {}\".format(president))\n",
    " \n",
    "``` \n",
    "</p>\n",
    "</details>"
   ]
  },
  {
   "cell_type": "markdown",
   "metadata": {
    "id": "afNeOHzjFtnD"
   },
   "source": [
    "---"
   ]
  },
  {
   "cell_type": "markdown",
   "metadata": {
    "id": "toX1BnJnDZFK"
   },
   "source": [
    "## <font color=\"red\">Tuple</font>"
   ]
  },
  {
   "cell_type": "markdown",
   "metadata": {
    "id": "hHL8niI2DZFK"
   },
   "source": [
    "* A tuple is an ordered sequence of elements. \n",
    "* Defined by enclosing the elements in parentheses (`( )`)\n",
    "* Used for fixed data\n",
    "* <font color='blue'>Is immutable</font>: once defined you cannot delete, add or edit any values inside it.\n",
    "* A tuple is used in scenarios where it is certain that the (set of) values belonging to some statement or a user-defined function will not change.\n",
    "* Accessing elements of a tuple is faster than that of a list."
   ]
  },
  {
   "cell_type": "markdown",
   "metadata": {
    "collapsed": true,
    "id": "aPIgP362DZFL",
    "jupyter": {
     "outputs_hidden": true
    }
   },
   "source": [
    "#### Initialization"
   ]
  },
  {
   "cell_type": "code",
   "execution_count": null,
   "metadata": {
    "id": "in4zniehDZFN"
   },
   "outputs": [],
   "source": [
    "empty_tuple = tuple()\n",
    "print(type(empty_tuple))"
   ]
  },
  {
   "cell_type": "markdown",
   "metadata": {
    "id": "qWppMPKzFtnF"
   },
   "source": [
    "Parentheses are optional:"
   ]
  },
  {
   "cell_type": "code",
   "execution_count": null,
   "metadata": {
    "id": "6JKkHBF2DZFQ"
   },
   "outputs": [],
   "source": [
    "primes = 2, 3, 5, 7, 11, 13\n",
    "print(type(primes))"
   ]
  },
  {
   "cell_type": "code",
   "execution_count": null,
   "metadata": {
    "id": "DktWaF-uFtnF"
   },
   "outputs": [],
   "source": [
    "planets = ('mercury', 'venus', 'earth', 'mars', 'jupiter', \n",
    "           'saturn', 'uranus', 'neptune')\n",
    "print(type(planets))"
   ]
  },
  {
   "cell_type": "code",
   "execution_count": null,
   "metadata": {
    "id": "UggZHNI2DZFS"
   },
   "outputs": [],
   "source": [
    "print ('Number of planets in our solar system is: {}'.format(len(planets)))"
   ]
  },
  {
   "cell_type": "markdown",
   "metadata": {
    "id": "jE47mIXFDZFV"
   },
   "source": [
    "Tuples are simple objects. Two methods only:"
   ]
  },
  {
   "cell_type": "markdown",
   "metadata": {
    "id": "Qcnvq3mfFtnG"
   },
   "source": [
    "Count the number of occurence of a value:"
   ]
  },
  {
   "cell_type": "code",
   "execution_count": null,
   "metadata": {
    "id": "-Ki26c9ZDZFV"
   },
   "outputs": [],
   "source": [
    "print(planets.count('earth'))   "
   ]
  },
  {
   "cell_type": "markdown",
   "metadata": {
    "id": "4E_hRtGSFtnH"
   },
   "source": [
    "Find occurence of a value:"
   ]
  },
  {
   "cell_type": "code",
   "execution_count": null,
   "metadata": {
    "id": "KJtljRPCFtnH"
   },
   "outputs": [],
   "source": [
    "print(planets.index('mars'))"
   ]
  },
  {
   "cell_type": "markdown",
   "metadata": {
    "id": "j_dxICxlDZFY"
   },
   "source": [
    "### Some Interests in Tuples\n",
    "- Faster than lists because of the little overhead to manipulate them.\n",
    "- Protect the data, which is immutable (*)\n",
    "- Assigning multiple values\n",
    "- Unpacking data\n",
    "- Can be used as keys on dictionaries"
   ]
  },
  {
   "cell_type": "markdown",
   "metadata": {
    "id": "YWoRdtfnFtnI"
   },
   "source": [
    "### Memory Access\n",
    "\n",
    "Consisder the tuple `a_mutable_tuple` that has as entry the list `solar_system_list`."
   ]
  },
  {
   "cell_type": "code",
   "execution_count": null,
   "metadata": {
    "id": "Ki722863FtnI"
   },
   "outputs": [],
   "source": [
    "solar_system_list = ['mercury', 'venus', 'earth', 'mars', \n",
    "                     'jupiter', 'saturn', 'uranus', 'neptune']\n",
    "\n",
    "a_mutable_tuple = (solar_system_list, 'pluto')"
   ]
  },
  {
   "cell_type": "markdown",
   "metadata": {
    "id": "BoS-caqBFtnJ"
   },
   "source": [
    "- A tuple is an immutable object (cannot be changed). \n",
    "- However in our example, the tuple `a_mutable_tuple` contains a mutable object (a list).\n",
    "- Could we modify the list and still keep the same tuple?"
   ]
  },
  {
   "cell_type": "code",
   "execution_count": null,
   "metadata": {
    "id": "SbzlY4_1FtnJ"
   },
   "outputs": [],
   "source": [
    "print(\"Original tuple: {}\".format(a_mutable_tuple))\n",
    "print(\"ID of tuple:    {}\".format(id(a_mutable_tuple)))"
   ]
  },
  {
   "cell_type": "code",
   "execution_count": null,
   "metadata": {
    "id": "hxyHFGX-FtnK"
   },
   "outputs": [],
   "source": [
    "a_mutable_tuple[0][2] = 'EARTH'"
   ]
  },
  {
   "cell_type": "code",
   "execution_count": null,
   "metadata": {
    "id": "iJFntHYwFtnK"
   },
   "outputs": [],
   "source": [
    "print(\"Modified tuple: {}\".format(a_mutable_tuple))\n",
    "print(\"ID of tuple:    {}\".format(id(a_mutable_tuple)))"
   ]
  },
  {
   "cell_type": "markdown",
   "metadata": {
    "id": "dXlFJDM-FtnK"
   },
   "source": [
    "### Other Operations"
   ]
  },
  {
   "cell_type": "markdown",
   "metadata": {
    "id": "PgrKv3XOFtnK"
   },
   "source": [
    "Assigning multiple values:"
   ]
  },
  {
   "cell_type": "code",
   "execution_count": null,
   "metadata": {
    "id": "8ia5t4XXDZFb"
   },
   "outputs": [],
   "source": [
    "(x, y, z) = ['a','b','c']\n",
    "x, y, z"
   ]
  },
  {
   "cell_type": "markdown",
   "metadata": {
    "id": "5dZrd9NzFtnL"
   },
   "source": [
    "Unpacking data:"
   ]
  },
  {
   "cell_type": "code",
   "execution_count": null,
   "metadata": {
    "id": "ICDLyzjiDZFd"
   },
   "outputs": [],
   "source": [
    "data  = (1,2,3)\n",
    "data"
   ]
  },
  {
   "cell_type": "markdown",
   "metadata": {
    "id": "U_tEoHevDZFj"
   },
   "source": [
    "## <font color=\"red\">Dictionary</font>"
   ]
  },
  {
   "cell_type": "markdown",
   "metadata": {
    "id": "Z5cHqhWqDZFk"
   },
   "source": [
    "* A dictionary is an associative data structure of variable length.\n",
    "* A dictionary consists of an ordered collection of key-value pairs. \n",
    "* Each key-value pair maps the key to its associated value.\n",
    "* <font color='blue'>Are mutable</font>."
   ]
  },
  {
   "cell_type": "markdown",
   "metadata": {
    "id": "GGnc7OMMDZFm"
   },
   "source": [
    "#### Initialization\n",
    "\n",
    "Empty dictionary:"
   ]
  },
  {
   "cell_type": "code",
   "execution_count": 2,
   "metadata": {
    "id": "GRmoGy23DZFn"
   },
   "outputs": [],
   "source": [
    "usuarios = dict\n",
    "usuarios['17760842'] = 10\n",
    "\n",
    "bad_palabras = dict\n",
    "bad_palabras['17760842'] = 1\n",
    "\n"
   ]
  },
  {
   "cell_type": "markdown",
   "metadata": {
    "id": "ebZe4KZ2FtnN"
   },
   "source": [
    "Ways for creating dictionaries:"
   ]
  },
  {
   "cell_type": "code",
   "execution_count": null,
   "metadata": {
    "id": "14cl096sFtnO"
   },
   "outputs": [],
   "source": [
    "daily_temps = dict()\n",
    "daily_temps['mon'] = 70.2\n",
    "daily_temps['tue'] = 67.2\n",
    "daily_temps['wed'] = 71.8\n",
    "daily_temps['thu'] = 73.2\n",
    "daily_temps['fri'] = 75.6"
   ]
  },
  {
   "cell_type": "code",
   "execution_count": null,
   "metadata": {
    "id": "9DFBxDLvFtnO"
   },
   "outputs": [],
   "source": [
    "daily_temps1 = {'mon': 70.2, 'tue': 67.2, 'wed': 71.8, \n",
    "               'thu': 73.2, 'fri': 75.6}"
   ]
  },
  {
   "cell_type": "code",
   "execution_count": null,
   "metadata": {
    "id": "G7y2alSJFtnP"
   },
   "outputs": [],
   "source": [
    "daily_temps2 = dict([('mon', 70.2), ('tue', 67.2), \n",
    "                     ('wed', 71.8), ('thu', 73.2), \n",
    "                     ('fri', 75.6)])"
   ]
  },
  {
   "cell_type": "code",
   "execution_count": null,
   "metadata": {
    "id": "gNtaCHd7FtnQ"
   },
   "outputs": [],
   "source": [
    "daily_temps3 = dict(mon=70.2, tue=67.2, wed=71.8, thu=73.2, fri=75.6)"
   ]
  },
  {
   "cell_type": "code",
   "execution_count": null,
   "metadata": {
    "id": "0uW-4VH-DZFn"
   },
   "outputs": [],
   "source": [
    "days = ['mon', 'tue', 'wed','thu','fri']\n",
    "temps = [70.2, 67.2, 71.8, 73.2, 75.6]\n",
    "daily_temps4 = dict(zip(days, temps))"
   ]
  },
  {
   "cell_type": "markdown",
   "metadata": {
    "id": "hm_79RuMDZFr"
   },
   "source": [
    "**Note that you can use only immutable objects for the keys of a dictionary but you can use either immutable or mutable objects for the values of the dictionary.**"
   ]
  },
  {
   "cell_type": "markdown",
   "metadata": {
    "id": "gm-mQRbvDZFs"
   },
   "source": [
    "#### Access elements\n",
    "- Dictionary elements are accessed via keys.\n",
    "- A value is retrieved from a dictionary by specifying its corresponding key in square brackets (`[` `]`)"
   ]
  },
  {
   "cell_type": "markdown",
   "metadata": {
    "id": "1U73awDaFtnR"
   },
   "source": [
    "Square brackets are used for accessing elements:"
   ]
  },
  {
   "cell_type": "code",
   "execution_count": null,
   "metadata": {
    "id": "uzyGg-H1DZFs"
   },
   "outputs": [],
   "source": [
    "daily_temps['mon']"
   ]
  },
  {
   "cell_type": "markdown",
   "metadata": {
    "id": "FLup3CZKFtnR"
   },
   "source": [
    "List all the keys in a dictionary: `key()` function"
   ]
  },
  {
   "cell_type": "code",
   "execution_count": null,
   "metadata": {
    "id": "GckRkKrUDZFv"
   },
   "outputs": [],
   "source": [
    "daily_temps.keys()"
   ]
  },
  {
   "cell_type": "markdown",
   "metadata": {
    "id": "Hd-aWzZ8FtnS"
   },
   "source": [
    "List all the values in a dictionary: `value()` function"
   ]
  },
  {
   "cell_type": "code",
   "execution_count": null,
   "metadata": {
    "id": "wGwl5dmWDZFx"
   },
   "outputs": [],
   "source": [
    "daily_temps.values()"
   ]
  },
  {
   "cell_type": "markdown",
   "metadata": {
    "id": "KisRCQzDFtnS"
   },
   "source": [
    "List all the pairs of keys and values in a dictionary: `items()` function"
   ]
  },
  {
   "cell_type": "code",
   "execution_count": null,
   "metadata": {
    "id": "xqjPW2rBDZF1"
   },
   "outputs": [],
   "source": [
    "daily_temps.items()"
   ]
  },
  {
   "cell_type": "markdown",
   "metadata": {
    "id": "KS3WwnsDFtnT"
   },
   "source": [
    "Check if a given key belongs to a dictionary:"
   ]
  },
  {
   "cell_type": "code",
   "execution_count": null,
   "metadata": {
    "id": "j_BlEmjrFtnT"
   },
   "outputs": [],
   "source": [
    "'sat' in daily_temps"
   ]
  },
  {
   "cell_type": "markdown",
   "metadata": {
    "id": "caGURxqCDZF4"
   },
   "source": [
    "**Keys must be immutable.**\n",
    "\n",
    "Keys in a dictionary can be tuples (immutable objects):"
   ]
  },
  {
   "cell_type": "code",
   "execution_count": null,
   "metadata": {
    "id": "8FAh_V8QFtnU"
   },
   "outputs": [],
   "source": [
    "temps = {('June',10,2019): 75.2, ('June',11,2019): 77.2}\n",
    "\n",
    "# Access with a tuple\n",
    "temps[('June',10,2019)]"
   ]
  },
  {
   "cell_type": "markdown",
   "metadata": {
    "id": "BYmzdICdFtnU"
   },
   "source": [
    "### Looping over a Dictionary"
   ]
  },
  {
   "cell_type": "markdown",
   "metadata": {
    "id": "GoXYbwf8FtnV"
   },
   "source": [
    "**Loop over keys**"
   ]
  },
  {
   "cell_type": "code",
   "execution_count": null,
   "metadata": {
    "id": "AAKC6w-JFtnV"
   },
   "outputs": [],
   "source": [
    "for day in daily_temps:\n",
    "    print(day)"
   ]
  },
  {
   "cell_type": "code",
   "execution_count": null,
   "metadata": {
    "id": "o17pHrOjFtnV"
   },
   "outputs": [],
   "source": [
    "for day in daily_temps:\n",
    "    print(\"Key: {} and Value: {}\".format(day, daily_temps[day]))"
   ]
  },
  {
   "cell_type": "markdown",
   "metadata": {
    "id": "KmExiLenFtnV"
   },
   "source": [
    "**Loop over keys and values**"
   ]
  },
  {
   "cell_type": "code",
   "execution_count": null,
   "metadata": {
    "id": "oAui9MSfFtnW"
   },
   "outputs": [],
   "source": [
    "for day, temp in daily_temps.items():\n",
    "    print(day, temp)"
   ]
  },
  {
   "cell_type": "markdown",
   "metadata": {
    "id": "mxRdCxtqFtnW"
   },
   "source": [
    "**Example**"
   ]
  },
  {
   "cell_type": "code",
   "execution_count": null,
   "metadata": {
    "id": "JybDl_CjFtnW"
   },
   "outputs": [],
   "source": [
    "colors = ['red','orange','yellow','green','blue','indigo','violet']\n",
    "d = dict()\n",
    "for color in colors:\n",
    "    key = len(color)\n",
    "    if key not in d:\n",
    "       d[key] = []\n",
    "    d[key].append(color)\n",
    "print(\"d: \", d)"
   ]
  },
  {
   "cell_type": "markdown",
   "metadata": {
    "id": "R3lavYMCFtnW"
   },
   "source": [
    "### Edit a Dictionary (add, delete items)"
   ]
  },
  {
   "cell_type": "code",
   "execution_count": null,
   "metadata": {
    "id": "MqRCSi7oFtnd"
   },
   "outputs": [],
   "source": [
    "print(daily_temps2)"
   ]
  },
  {
   "cell_type": "markdown",
   "metadata": {
    "id": "I_bc7K2BFtnd"
   },
   "source": [
    "Adding a new entry:"
   ]
  },
  {
   "cell_type": "code",
   "execution_count": null,
   "metadata": {
    "id": "Oncw8vIyFtne"
   },
   "outputs": [],
   "source": [
    "daily_temps2.update({'sat': 32.3, 'sun': 76.8})\n",
    "print(daily_temps2)"
   ]
  },
  {
   "cell_type": "markdown",
   "metadata": {
    "id": "vjw2G1_kFtne"
   },
   "source": [
    "Deleting an item:"
   ]
  },
  {
   "cell_type": "code",
   "execution_count": null,
   "metadata": {
    "id": "kaps27iqFtnf"
   },
   "outputs": [],
   "source": [
    "del daily_temps2[\"wed\"]\n",
    "print(daily_temps2)"
   ]
  },
  {
   "cell_type": "code",
   "execution_count": null,
   "metadata": {
    "id": "Djpb7IVFFtnf"
   },
   "outputs": [],
   "source": [
    "removed_value = daily_temps2.pop('fri') \n",
    "print(\"Removed value:      {}\".format(removed_value))\n",
    "print(\"Updared dictionary: {}\".format(daily_temps2))"
   ]
  },
  {
   "cell_type": "markdown",
   "metadata": {
    "id": "E0UVxKdlFtnf"
   },
   "source": [
    "### Useful Function Assiociated with Dictionaries\n",
    "\n",
    "Assume that `d` is a dictionary.\n",
    "\n",
    "| Function | Description |\n",
    "| --- | --- |\n",
    "| `d.get(<key>[, <default>])` | Returns the value for a key if it exists in the dictionary. |\n",
    "| `d.items()` | Returns a list of key-value pairs in a dictionary. |\n",
    "| `d.keys()` | Returns a list of keys in a dictionary. |\n",
    "| `d.values()` | Returns a list of values in a dictionary. |\n",
    "| `d.pop(<key>[, <default>])` | Removes a key from a dictionary, if it is present, and returns its value. |\n",
    "| `d.popitem()` | Removes the last key-value pair added from d and returns it as a tuple. |\n",
    "| `d.update()` | Merges a dictionary with another dictionary or with an iterable of key-value pairs. |\n",
    "| `d.clear()` | Empties a dictionary of all key-value pairs. |"
   ]
  },
  {
   "cell_type": "markdown",
   "metadata": {
    "id": "ldrlQTJ6DZGJ"
   },
   "source": [
    "#### Exercise 3\n",
    "\n",
    "Given the scrabble scores dictionary, write a program to compute the value of any word. \n",
    "\n",
    "For word='Python' the score is 14."
   ]
  },
  {
   "cell_type": "code",
   "execution_count": null,
   "metadata": {
    "id": "uIclXR7kDZGM"
   },
   "outputs": [],
   "source": [
    "scores = {\"a\": 1, \"c\": 3, \"b\": 3, \"e\": 1,  \"d\": 2, \"g\": 2,\n",
    "          \"f\": 4, \"i\": 1, \"h\": 4, \"k\": 5,  \"j\": 8, \"m\": 3,\n",
    "          \"l\": 1, \"o\": 1, \"n\": 1, \"q\": 10, \"p\": 3, \"s\": 1,\n",
    "          \"r\": 1, \"u\": 1, \"t\": 1, \"w\": 4,  \"v\": 4, \"y\": 4,\n",
    "          \"x\": 8, \"z\": 10}\n",
    "word = 'Python'"
   ]
  },
  {
   "cell_type": "markdown",
   "metadata": {
    "collapsed": true,
    "id": "1RsDkgorDZGO",
    "jupyter": {
     "outputs_hidden": true
    }
   },
   "source": [
    "## <font color=\"red\">Set</font>"
   ]
  },
  {
   "cell_type": "markdown",
   "metadata": {
    "id": "w4dRmmwaDZGR"
   },
   "source": [
    "* A sequence used to store non-duplicate data.\n",
    "* Data is unordered, accesed via indexing.\n",
    "* <font color='blue'>mutable</font>."
   ]
  },
  {
   "cell_type": "markdown",
   "metadata": {
    "id": "7JapEKgXDZGS"
   },
   "source": [
    "#### Initialization"
   ]
  },
  {
   "cell_type": "code",
   "execution_count": null,
   "metadata": {
    "id": "KeGqUkk_DZGT"
   },
   "outputs": [],
   "source": [
    "empty_set = set()\n",
    "print(type(empty_set))"
   ]
  },
  {
   "cell_type": "code",
   "execution_count": null,
   "metadata": {
    "id": "zpb-d1hLFtni"
   },
   "outputs": [],
   "source": [
    "fibo = {1, 1, 2, 3, 5}\n",
    "print(type(fibo))\n",
    "print(\"Set fibo:\", fibo)"
   ]
  },
  {
   "cell_type": "code",
   "execution_count": null,
   "metadata": {
    "id": "60nubFmvFtnj"
   },
   "outputs": [],
   "source": [
    "some_primes = [1, 1, 2, 3, 5]\n",
    "primes = set(some_primes)\n",
    "print(\"Set primes:\", primes)"
   ]
  },
  {
   "cell_type": "markdown",
   "metadata": {
    "id": "-2nZCNceDZGX"
   },
   "source": [
    "#### Mathematical set operations"
   ]
  },
  {
   "cell_type": "code",
   "execution_count": null,
   "metadata": {
    "id": "RPdBaRcuDZGY"
   },
   "outputs": [],
   "source": [
    "a = set([1, 2, 3, 4])\n",
    "b = set([3, 4, 5, 6])"
   ]
  },
  {
   "cell_type": "markdown",
   "metadata": {
    "id": "xVWZ7E6SFtnk"
   },
   "source": [
    "Union or `a.union(b)`:"
   ]
  },
  {
   "cell_type": "code",
   "execution_count": null,
   "metadata": {
    "id": "lLN006ziDZGa"
   },
   "outputs": [],
   "source": [
    "a | b"
   ]
  },
  {
   "cell_type": "markdown",
   "metadata": {
    "id": "Jq_MliOmFtnk"
   },
   "source": [
    "Intersection  or `a.intersection(b)`:"
   ]
  },
  {
   "cell_type": "code",
   "execution_count": null,
   "metadata": {
    "id": "sFU9Asw-DZGc"
   },
   "outputs": [],
   "source": [
    "a & b"
   ]
  },
  {
   "cell_type": "markdown",
   "metadata": {
    "id": "s6p826GYFtnl"
   },
   "source": [
    "Subset or `a.issubset(b)`:"
   ]
  },
  {
   "cell_type": "code",
   "execution_count": null,
   "metadata": {
    "id": "3EMFeAllDZGe"
   },
   "outputs": [],
   "source": [
    "a < b "
   ]
  },
  {
   "cell_type": "markdown",
   "metadata": {
    "id": "Vf9OEjVZFtnm"
   },
   "source": [
    "Difference or `a.difference(b)`:"
   ]
  },
  {
   "cell_type": "code",
   "execution_count": null,
   "metadata": {
    "id": "rC1jbVPbDZGg"
   },
   "outputs": [],
   "source": [
    "a - b"
   ]
  },
  {
   "cell_type": "markdown",
   "metadata": {
    "id": "SnR0nU4PFtnn"
   },
   "source": [
    "![fig_type](https://intellipaat.com/mediaFiles/2019/02/pyhon3.png) \n",
    "Image Source: https://intellipaat.com/"
   ]
  },
  {
   "cell_type": "markdown",
   "metadata": {
    "id": "3VShQqu5Ftnn"
   },
   "source": [
    "---"
   ]
  },
  {
   "cell_type": "markdown",
   "metadata": {
    "collapsed": true,
    "id": "mt2_fTE7DZGt",
    "jupyter": {
     "outputs_hidden": true
    }
   },
   "source": [
    "                                                                                           "
   ]
  },
  {
   "cell_type": "markdown",
   "metadata": {
    "id": "RjatwtaGDZHM"
   },
   "source": [
    "## Quiz \n",
    "<A HREF=\"https://www.programiz.com/python-programming/quiz/native-data-types\"> Click here to take a quick quiz on data types</A>"
   ]
  },
  {
   "cell_type": "markdown",
   "metadata": {
    "id": "8xZ_buiUFtnp"
   },
   "source": [
    "---"
   ]
  },
  {
   "cell_type": "code",
   "execution_count": null,
   "metadata": {
    "id": "RrjbwfECDZFA"
   },
   "outputs": [],
   "source": [
    "## <font color=\"red\">Copying Objects in Python</font>\n",
    "\n",
    "- Assignment statements in Python do not create copies of objects, they only bind names to an object. \n",
    "- For immutable objects, that usually doesn’t make a difference.\n",
    "- But for working with mutable objects or collections of mutable objects, you might be looking for a way to create “real copies” or “clones” of these objects.\n",
    "- Python creates real copies only if it has to, i.e. if the user, the programmer, explicitly demands it.\n"
   ]
  },
  {
   "cell_type": "markdown",
   "metadata": {
    "id": "ZSny-3T6Ftnq"
   },
   "source": [
    "**<font color=\"blue\">Shallow Copies in Python</font>**\n",
    "\n",
    "- A shallow copy also makes a separate new object object, but instead of copying the child elements to the new object, it simply copies the references to their memory addresses.\n",
    "- If you make a change in the original object, it would reflect in the copied object, and vice versa. \n",
    "- Both the copies are dependent on each other. "
   ]
  },
  {
   "cell_type": "markdown",
   "metadata": {
    "id": "WHmv-wVYFtnq"
   },
   "source": [
    "**Example 1**"
   ]
  },
  {
   "cell_type": "code",
   "execution_count": null,
   "metadata": {
    "id": "QzyQxAqgFtnq"
   },
   "outputs": [],
   "source": [
    "a = [[90, 85, 82], [72, 88, 90]]\n",
    "print(id(a))"
   ]
  },
  {
   "cell_type": "code",
   "execution_count": null,
   "metadata": {
    "id": "6Fb9FoHEFtnr"
   },
   "outputs": [],
   "source": [
    "b = a\n",
    "print(id(b))"
   ]
  },
  {
   "cell_type": "code",
   "execution_count": null,
   "metadata": {
    "id": "RMyuuXRxFtnr"
   },
   "outputs": [],
   "source": [
    "b.append(23)\n",
    "print(\"a: \", a)\n",
    "print(\"b: \", b)"
   ]
  },
  {
   "cell_type": "code",
   "execution_count": null,
   "metadata": {
    "id": "Ph6Y5MRbFtns"
   },
   "outputs": [],
   "source": [
    "print('EQUAL?:', (a == b))\n",
    "print('SAME ?:', (a is b))"
   ]
  },
  {
   "cell_type": "markdown",
   "metadata": {
    "id": "ejyFGFM6Ftns"
   },
   "source": [
    "Changing `b` also changes `a` because they both refer to the same `list` object."
   ]
  },
  {
   "cell_type": "markdown",
   "metadata": {
    "id": "2rfGudUqFtns"
   },
   "source": [
    "**Example 2: Copying by Slicing**\n",
    "\n",
    "- Slicing creates a new object."
   ]
  },
  {
   "cell_type": "code",
   "execution_count": null,
   "metadata": {
    "id": "Q9bQzwDzFtnt"
   },
   "outputs": [],
   "source": [
    "a = [[90, 85, 82], [72, 88, 90]]\n",
    "print(id(a))\n",
    "b = a[0:]\n",
    "print(\"b: \", b)\n",
    "print(id(b))"
   ]
  },
  {
   "cell_type": "code",
   "execution_count": null,
   "metadata": {
    "id": "BUKAG1LxFtnu"
   },
   "outputs": [],
   "source": [
    "print('EQUAL?:', (a == b))\n",
    "print('SAME ?:', (a is b))"
   ]
  },
  {
   "cell_type": "markdown",
   "metadata": {
    "id": "yPQ-HbgGFtnu"
   },
   "source": [
    "- The items of list `b` are the same as those of list `a`.\n",
    "- `a` and `b` are different objects, **BUT**"
   ]
  },
  {
   "cell_type": "code",
   "execution_count": null,
   "metadata": {
    "id": "KFyKfCl9Ftnu"
   },
   "outputs": [],
   "source": [
    "b[0][0] = 30\n",
    "print(\"b: \", b)\n",
    "print(\"a: \", a)"
   ]
  },
  {
   "cell_type": "code",
   "execution_count": null,
   "metadata": {
    "id": "8kcJX4HHFtoE"
   },
   "outputs": [],
   "source": [
    "print('EQUAL?:', (a == b))\n",
    "print('SAME ?:', (a is b))"
   ]
  },
  {
   "cell_type": "markdown",
   "metadata": {
    "id": "2uDlcJH3FtoE"
   },
   "source": [
    "**Example 3: Copying Using the `list()` Function**\n",
    "\n",
    "- The `list()` function is used to create a list object from any iterable."
   ]
  },
  {
   "cell_type": "code",
   "execution_count": null,
   "metadata": {
    "id": "H-oVhcezFtoE"
   },
   "outputs": [],
   "source": [
    "a = [[90, 85, 82], [72, 88, 90]]\n",
    "print(id(a))\n",
    "b = list(a)\n",
    "print(\"b: \", b)\n",
    "print(id(b))"
   ]
  },
  {
   "cell_type": "code",
   "execution_count": null,
   "metadata": {
    "id": "as6SKZuWFtoG"
   },
   "outputs": [],
   "source": [
    "b[0][0] = 30\n",
    "print(\"b: \", b)\n",
    "print(\"a: \", a)"
   ]
  },
  {
   "cell_type": "code",
   "execution_count": null,
   "metadata": {
    "id": "_rciPx6DFtoG"
   },
   "outputs": [],
   "source": [
    "print('EQUAL?:', (a == b))\n",
    "print('SAME ?:', (a is b))"
   ]
  },
  {
   "cell_type": "markdown",
   "metadata": {
    "id": "PHoArAvIFtoH"
   },
   "source": [
    "**Example 4: Copying using the `copy()` Function**"
   ]
  },
  {
   "cell_type": "code",
   "execution_count": null,
   "metadata": {
    "id": "eH3wMY5eFtoH"
   },
   "outputs": [],
   "source": [
    "import copy\n",
    "\n",
    "a = [[90, 85, 82], [72, 88, 90]]\n",
    "print(id(a))\n",
    "print(a)\n",
    "b = copy.copy(a) \n",
    "print(id(b))\n",
    "\n",
    "# Change first year and first subject's marks to 30\n",
    "b[0][0] = 30\n",
    "\n",
    "print(\"Original List: \", a)\n",
    "print(\"Shallow Copy:  \", b)"
   ]
  },
  {
   "cell_type": "code",
   "execution_count": null,
   "metadata": {
    "id": "umrxYgoiFtoH"
   },
   "outputs": [],
   "source": [
    "print('EQUAL?:', (a == b))\n",
    "print('SAME ?:', (a is b))"
   ]
  },
  {
   "cell_type": "markdown",
   "metadata": {
    "id": "bUP9-uDFFtoI"
   },
   "source": [
    "**<font color=\"blue\">Deep Copies in Python</font>**\n",
    "\n",
    "- A deep copy makes a new and separate copy of an entire object with its own unique memory address. \n",
    "- Any changes you make in the new copy of the object will not reflect in the original one. \n",
    "- This process happens by first creating a new object, followed by recursively copying the elements from the original one to the new one.\n",
    "- Both of the objects are completely independent of each other. "
   ]
  },
  {
   "cell_type": "code",
   "execution_count": null,
   "metadata": {
    "id": "gn59qCliFtoI"
   },
   "outputs": [],
   "source": [
    "import copy\n",
    "\n",
    "a = [[90, 85, 82], [72, 88, 90]]\n",
    "b = copy.deepcopy(a) \n",
    "\n",
    "# Change first year and first subject's marks to 30\n",
    "b[0][0] = 30\n",
    "\n",
    "print(\"Original List: \", a)\n",
    "print(\"Deep Copy:     \", b)"
   ]
  },
  {
   "cell_type": "code",
   "execution_count": null,
   "metadata": {
    "id": "QVDJJKq7FtoJ"
   },
   "outputs": [],
   "source": [
    "print('EQUAL?:', (a == b))\n",
    "print('SAME ?:', (a is b))"
   ]
  }
 ],
 "metadata": {
  "colab": {
   "name": "Copy of Python_advanced_data_types.ipynb",
   "provenance": [
    {
     "file_id": "https://github.com/astg606/py_materials/blob/master/data_types/python_data_structures.ipynb",
     "timestamp": 1649521925158
    }
   ]
  },
  "kernelspec": {
   "display_name": "Python 3 (ipykernel)",
   "language": "python",
   "name": "python3"
  },
  "language_info": {
   "codemirror_mode": {
    "name": "ipython",
    "version": 3
   },
   "file_extension": ".py",
   "mimetype": "text/x-python",
   "name": "python",
   "nbconvert_exporter": "python",
   "pygments_lexer": "ipython3",
   "version": "3.10.12"
  }
 },
 "nbformat": 4,
 "nbformat_minor": 4
}
