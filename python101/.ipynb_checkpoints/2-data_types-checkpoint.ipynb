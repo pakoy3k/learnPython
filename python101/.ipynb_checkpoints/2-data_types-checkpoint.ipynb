{
 "cells": [
  {
   "cell_type": "markdown",
   "metadata": {
    "id": "dqePeAZ4FtJH"
   },
   "source": [
    "<font color=\"white\">.</font> | <font color=\"white\">.</font> | <font color=\"white\">.</font>\n",
    "-- | -- | --\n",
    "![NASA](http://www.nasa.gov/sites/all/themes/custom/nasatwo/images/nasa-logo.svg) | <h1><font size=\"+3\">ASTG Python Courses</font></h1> | ![NASA](https://www.nccs.nasa.gov/sites/default/files/NCCS_Logo_0.png)\n",
    "\n",
    "---\n",
    "\n",
    "<center><h1>\n",
    "    <font color=\"red\">Python Basic Data Types</font>  \n",
    "</h1></center>"
   ]
  },
  {
   "cell_type": "markdown",
   "metadata": {
    "id": "5yVoWzIDFtJO"
   },
   "source": [
    "### Useful Links\n",
    "\n",
    "- <a href=\"https://docs.python.org/3/library/stdtypes.html\">Python Built-in Types</a>\n",
    "- <a href=\"https://beginnersbook.com/2019/03/python-data-types/\">Python Data Types</a>"
   ]
  },
  {
   "cell_type": "markdown",
   "metadata": {
    "id": "TtAKid_WFtJP"
   },
   "source": [
    "## <font color=\"red\">Python Primitive Data Types</font>\n",
    "\n",
    "- Data types are the classification or categorization of data items. \n",
    "- Data types represent a kind of value which determines what operations can be performed on that data.\n",
    "- Every value in Python has a datatype.\n",
    "\n",
    "Python has four primitive data types:\n",
    "\n",
    "* Integer\n",
    "* Float\n",
    "* Boolean\n",
    "* String\n",
    "\n",
    "We will cover the above data types in addition to complex numbers."
   ]
  },
  {
   "cell_type": "markdown",
   "metadata": {
    "id": "cISOoaSTFtJQ"
   },
   "source": [
    "## <font color=\"red\">Concept of Variables</font>\n",
    "\n",
    "* Variables are nothing but reserved memory locations to store values. This means that when you create a variable you reserve some space in memory.\n",
    "* Python variables do not need explicit declaration to reserve memory space.\n",
    "* The declaration happens automatically when you assign a value to a variable. \n",
    "* The equal sign (`=`) is used to assign values to variables.\n",
    "* Based on the data type of a variable, the Python interpreter allocates memory and decides what can be stored in the reserved memory. \n",
    "* A variable can change its type over the course of the program's execution.\n",
    "* By assigning different data types to variables, you can store integers, decimals or characters in these variables."
   ]
  },
  {
   "cell_type": "markdown",
   "metadata": {
    "id": "W3HErRxgFtJS"
   },
   "source": [
    "## <font color=\"red\"> Integers </font>"
   ]
  },
  {
   "cell_type": "markdown",
   "metadata": {
    "id": "M4CC078NFtJT"
   },
   "source": [
    "* An integer is a whole number that could hold a zero, positive or negative value.\n",
    "* Integers can be of any length, it is only limited by the memory available."
   ]
  },
  {
   "cell_type": "code",
   "execution_count": 2,
   "metadata": {
    "colab": {
     "base_uri": "https://localhost:8080/"
    },
    "executionInfo": {
     "elapsed": 18,
     "status": "ok",
     "timestamp": 1649520636608,
     "user": {
      "displayName": "",
      "userId": ""
     },
     "user_tz": 420
    },
    "id": "PZH_xkFMFtJU",
    "outputId": "22632065-f3e6-473d-e780-3c7413b7d357"
   },
   "outputs": [
    {
     "name": "stdout",
     "output_type": "stream",
     "text": [
      "12345678901234567890123456789012345678901234567890\n"
     ]
    }
   ],
   "source": [
    "a = 12345678901234567890123456789012345678901234567890\n",
    "print(a)"
   ]
  },
  {
   "cell_type": "code",
   "execution_count": 3,
   "metadata": {
    "id": "ZmdG56oyFtJX"
   },
   "outputs": [
    {
     "name": "stdout",
     "output_type": "stream",
     "text": [
      "12345678901234567890123456789012345678901234567901\n"
     ]
    }
   ],
   "source": [
    "b = a + 11\n",
    "print(b)"
   ]
  },
  {
   "cell_type": "markdown",
   "metadata": {
    "id": "ioloQamlFtJY"
   },
   "source": [
    "The following strings can be prepended to an integer value to indicate a base other than 10:\n",
    "\n",
    "| Prefix |\tInterpretation\t| Base |\n",
    "| --- | --- | --- | \n",
    "| 0b (zero + lowercase letter 'b') | Binary| \t2|\n",
    "| 0B (zero + uppercase letter 'B')|\t \n",
    "| 0o (zero + lowercase letter 'o')|  Octal| \t8|\n",
    "| 0O (zero + uppercase letter 'O')|\n",
    "| 0x (zero + lowercase letter 'x')|  Hexadecimal| \t16|\n",
    "| 0X (zero + uppercase letter 'X')| \t"
   ]
  },
  {
   "cell_type": "code",
   "execution_count": 5,
   "metadata": {
    "id": "ZLyUSVLVFtJa"
   },
   "outputs": [
    {
     "name": "stdout",
     "output_type": "stream",
     "text": [
      "8\n"
     ]
    }
   ],
   "source": [
    "print(0o10)"
   ]
  },
  {
   "cell_type": "code",
   "execution_count": 8,
   "metadata": {
    "id": "oFuBoQWzFtJb"
   },
   "outputs": [
    {
     "name": "stdout",
     "output_type": "stream",
     "text": [
      "16\n"
     ]
    }
   ],
   "source": [
    "print(0x10)"
   ]
  },
  {
   "cell_type": "code",
   "execution_count": 11,
   "metadata": {
    "id": "ZIWZvpiAFtJc"
   },
   "outputs": [
    {
     "name": "stdout",
     "output_type": "stream",
     "text": [
      "1\n"
     ]
    }
   ],
   "source": [
    "print(0b001)"
   ]
  },
  {
   "cell_type": "markdown",
   "metadata": {
    "id": "D62Fal1QFtJd"
   },
   "source": [
    "- The underlying type of a Python integer, irrespective of the base used to specify it, is called `int`.\n",
    "- We can use the `type()` function to determine the type of any Python data item."
   ]
  },
  {
   "cell_type": "code",
   "execution_count": 12,
   "metadata": {
    "id": "BLBaBR-TFtJe"
   },
   "outputs": [
    {
     "data": {
      "text/plain": [
       "int"
      ]
     },
     "execution_count": 12,
     "metadata": {},
     "output_type": "execute_result"
    }
   ],
   "source": [
    "type(10)"
   ]
  },
  {
   "cell_type": "code",
   "execution_count": 13,
   "metadata": {
    "id": "mawC6RKHFtJf",
    "slideshow": {
     "slide_type": "fragment"
    }
   },
   "outputs": [
    {
     "data": {
      "text/plain": [
       "int"
      ]
     },
     "execution_count": 13,
     "metadata": {},
     "output_type": "execute_result"
    }
   ],
   "source": [
    "type(0o10)"
   ]
  },
  {
   "cell_type": "code",
   "execution_count": 14,
   "metadata": {
    "id": "GduzCRPIFtJf"
   },
   "outputs": [
    {
     "data": {
      "text/plain": [
       "int"
      ]
     },
     "execution_count": 14,
     "metadata": {},
     "output_type": "execute_result"
    }
   ],
   "source": [
    "type(0x10)"
   ]
  },
  {
   "cell_type": "code",
   "execution_count": null,
   "metadata": {
    "id": "AAb7LzSlFtJg"
   },
   "outputs": [],
   "source": [
    "# - We can also use the `isinstance()` function to check if a data item belongs to a particular data type."
   ]
  },
  {
   "cell_type": "code",
   "execution_count": 15,
   "metadata": {
    "id": "pVVhPBpnFtJh"
   },
   "outputs": [
    {
     "name": "stdout",
     "output_type": "stream",
     "text": [
      "12345678901234567890123456789012345678901234567890 is of type <class 'int'>\n",
      "12345678901234567890123456789012345678901234567890 is integer? True\n"
     ]
    }
   ],
   "source": [
    "a = 12345678901234567890123456789012345678901234567890\n",
    "print(a, \"is of type\", type(a))\n",
    "print(a, \"is integer?\", isinstance(a, int))"
   ]
  },
  {
   "cell_type": "markdown",
   "metadata": {
    "id": "EJ3R5KrhFtJi"
   },
   "source": [
    "### Integer Arithmetic"
   ]
  },
  {
   "cell_type": "markdown",
   "metadata": {
    "id": "SJiUlp9bFtJi"
   },
   "source": [
    "In Python, __variables are not declared__. The type of a variable is determined when it is assigned a value."
   ]
  },
  {
   "cell_type": "code",
   "execution_count": 16,
   "metadata": {
    "id": "x3TVJeigFtJj"
   },
   "outputs": [],
   "source": [
    "a = 1\n",
    "b = 2\n",
    "c = 3\n",
    "d = 4\n",
    "e = 5\n",
    "f = 6\n",
    "g = 7\n",
    "h = 8"
   ]
  },
  {
   "cell_type": "code",
   "execution_count": 17,
   "metadata": {
    "id": "k6KQe2TdFtJk"
   },
   "outputs": [
    {
     "name": "stdout",
     "output_type": "stream",
     "text": [
      "3\n",
      "-1\n",
      "30\n",
      "0.875\n"
     ]
    }
   ],
   "source": [
    "print(a + b)\n",
    "print(c - d)\n",
    "print(e * f)\n",
    "print(g / h)"
   ]
  },
  {
   "cell_type": "markdown",
   "metadata": {
    "id": "Z9Ec9OzeFtJk"
   },
   "source": [
    "x = 17\n",
    "y = 3\n",
    "\n",
    "print(x /  y)  # gives 5.66666666667\n",
    "print(x // y)  # gives 5\n",
    "print(x %  y)   # gives 2"
   ]
  },
  {
   "cell_type": "markdown",
   "metadata": {
    "id": "m8RQexSYFtJl"
   },
   "source": [
    "## <font color=\"red\">Floating Point Numbers </font>"
   ]
  },
  {
   "cell_type": "markdown",
   "metadata": {
    "id": "bB6dnhHqFtJl"
   },
   "source": [
    "* The float type in Python designates a floating-point number. \n",
    "* Float values are specified with a decimal point.\n",
    "* A floating-point number is accurate up to 15 decimal places.\n",
    "* The character e or E followed by a positive or negative integer may be appended to specify scientific notation."
   ]
  },
  {
   "cell_type": "code",
   "execution_count": null,
   "metadata": {
    "id": "_aJgCVyxFtJl"
   },
   "outputs": [],
   "source": [
    "7.94"
   ]
  },
  {
   "cell_type": "code",
   "execution_count": null,
   "metadata": {
    "id": "c2QopYikFtJo"
   },
   "outputs": [],
   "source": [
    "type(7.94)"
   ]
  },
  {
   "cell_type": "code",
   "execution_count": null,
   "metadata": {
    "id": "OIy1I1ORFtJo"
   },
   "outputs": [],
   "source": [
    ".56"
   ]
  },
  {
   "cell_type": "code",
   "execution_count": null,
   "metadata": {
    "id": "F1FYjkHdFtJp"
   },
   "outputs": [],
   "source": [
    "56."
   ]
  },
  {
   "cell_type": "code",
   "execution_count": null,
   "metadata": {
    "id": "w1I4EekoFtJp"
   },
   "outputs": [],
   "source": [
    "2.6e-5"
   ]
  },
  {
   "cell_type": "code",
   "execution_count": null,
   "metadata": {
    "id": "il2kaNLYFtJp"
   },
   "outputs": [],
   "source": [
    "a = 0.1234567890123456789\n",
    "print(a, \"is of type\", type(a))\n",
    "print(a, \"is float?\", isinstance(a, float))"
   ]
  },
  {
   "cell_type": "markdown",
   "metadata": {
    "id": "slujgoy-FtJq"
   },
   "source": [
    "* Floating point numbers are represented internally as binary (base-2) fractions. \n",
    "* Most decimal fractions cannot be represented exactly as binary fractions, so in most cases the internal representation of a floating-point number is an approximation of the actual value."
   ]
  },
  {
   "cell_type": "markdown",
   "metadata": {
    "id": "Qcaq-xYaFtJq"
   },
   "source": [
    "#### Operations on Floats"
   ]
  },
  {
   "cell_type": "code",
   "execution_count": null,
   "metadata": {
    "id": "_UTeuSTMFtJr"
   },
   "outputs": [],
   "source": [
    "print(int(1.3))   # gives 1\n",
    "print(int(1.7))   # gives 1\n",
    "print(int(-1.3))  # gives -1\n",
    "print(int(-1.7))  # gives -1"
   ]
  },
  {
   "cell_type": "markdown",
   "metadata": {
    "id": "titU0yJKFtJr"
   },
   "source": [
    "The `round()` function returns a floating-point number rounded to the specified number of decimals. It takes two parameters:\n",
    "\n",
    "+ **number** - the number to be rounded\n",
    "+ **ndigits (optional)** - number up to which the given number is rounded; defaults to 0.\n",
    "\n",
    "When the second argument is present, it will round to the number of places given. The return type will be a float."
   ]
  },
  {
   "cell_type": "code",
   "execution_count": null,
   "metadata": {
    "id": "_qGU4gRoFtJr"
   },
   "outputs": [],
   "source": [
    "float_num1 = 10.60 \n",
    "float_num2 = 10.40\n",
    "float_num3 = 10.3456 \n",
    "float_num4 = 10.3445 \n",
    "print(\"Rounded value without num_of_decimals is :\", round(float_num1))\n",
    "print(\"Rounded value without num_of_decimals is :\", round(float_num2))\n",
    "print(\"Rounded value with num_of_decimals as 2 is :\", round(float_num3, 2))\n",
    "print(\"Rounded value with num_of_decimals as 2 is :\", round(float_num4, 2))"
   ]
  },
  {
   "cell_type": "markdown",
   "metadata": {
    "id": "wUrXm4ttFtJs"
   },
   "source": [
    "Let us see few examples of how rounding works on negative numbers:"
   ]
  },
  {
   "cell_type": "code",
   "execution_count": null,
   "metadata": {
    "id": "E8nj3co4FtJs"
   },
   "outputs": [],
   "source": [
    "num = -2.8\n",
    "num1 = -1.5\n",
    "print(\"The value after rounding is\", round(num))\n",
    "print(\"The value after rounding is\", round(num1))"
   ]
  },
  {
   "cell_type": "code",
   "execution_count": null,
   "metadata": {
    "id": "6KE2s5w9FtJs"
   },
   "outputs": [],
   "source": [
    "x = float(input(\"Give me a number: \"))\n",
    "print(x)"
   ]
  },
  {
   "cell_type": "markdown",
   "metadata": {
    "id": "AFd_LUhsFtJt"
   },
   "source": [
    "## <font color=\"red\">Complex Numbers</font>"
   ]
  },
  {
   "cell_type": "markdown",
   "metadata": {
    "id": "Ij7_M-W6FtJt"
   },
   "source": [
    "- A complex number consists of an ordered pair of real floating point numbers denoted by a + bj, where a is the real part and b is the imaginary part of the complex number."
   ]
  },
  {
   "cell_type": "code",
   "execution_count": null,
   "metadata": {
    "id": "OaV4AGHUFtJt"
   },
   "outputs": [],
   "source": [
    "3.0 + 9j"
   ]
  },
  {
   "cell_type": "code",
   "execution_count": null,
   "metadata": {
    "id": "SF_whezVFtJt"
   },
   "outputs": [],
   "source": [
    "type(3.0+9j)"
   ]
  },
  {
   "cell_type": "code",
   "execution_count": null,
   "metadata": {
    "id": "05sFAG7BFtJu"
   },
   "outputs": [],
   "source": [
    "a = complex(3.0,9)\n",
    "print(\"a = \", a)"
   ]
  },
  {
   "cell_type": "code",
   "execution_count": null,
   "metadata": {
    "id": "CDxU51jjFtJu"
   },
   "outputs": [],
   "source": [
    "print('Real Part =         ', a.real)\n",
    "print('Imaginary Part =    ', a.imag)\n",
    "print('Complex conjugate = ', a.conjugate())"
   ]
  },
  {
   "cell_type": "code",
   "execution_count": null,
   "metadata": {
    "id": "dg4YjqbuFtJu"
   },
   "outputs": [],
   "source": [
    "b = complex(1,2)\n",
    "print (\"a*a=\",a*a)\n",
    "print (\"a/b=\",a/b)\n",
    "print (\"a*b=\",a*b)"
   ]
  },
  {
   "cell_type": "markdown",
   "metadata": {
    "id": "9UqqXMw2FtJu"
   },
   "source": [
    "## <font color=\"red\">Booleans</font>"
   ]
  },
  {
   "cell_type": "markdown",
   "metadata": {
    "id": "3lCCxxsXFtJv"
   },
   "source": [
    "* The python data type `bool` is used to store two values i.e `True` and `False`.\n",
    "* Booleans are used to test whether the result of an expression is true or false."
   ]
  },
  {
   "cell_type": "code",
   "execution_count": null,
   "metadata": {
    "id": "r-4gZuKjFtJv"
   },
   "outputs": [],
   "source": [
    "true=True\n",
    "type(true)\n",
    "true=123\n",
    "type(true)"
   ]
  },
  {
   "cell_type": "code",
   "execution_count": null,
   "metadata": {
    "id": "f77LeBJAFtJv"
   },
   "outputs": [],
   "source": [
    "type(False)"
   ]
  },
  {
   "cell_type": "markdown",
   "metadata": {
    "id": "vBZkFqNBFtJv"
   },
   "source": [
    "- A Boolean expression is an expression that evaluates to produce a result which is a Boolean value.\n",
    "- We can store a Boolean value in a variable:"
   ]
  },
  {
   "cell_type": "code",
   "execution_count": null,
   "metadata": {
    "id": "v09WjN6ZFtJw"
   },
   "outputs": [],
   "source": [
    "my_bool = 5 > 8"
   ]
  },
  {
   "cell_type": "markdown",
   "metadata": {
    "id": "X5EIIs6NFtJw"
   },
   "source": [
    "and then print the Boolean value with a call to the `print()` function:"
   ]
  },
  {
   "cell_type": "code",
   "execution_count": null,
   "metadata": {
    "id": "UYe5_I7gFtJx"
   },
   "outputs": [],
   "source": [
    "print(my_bool)"
   ]
  },
  {
   "cell_type": "markdown",
   "metadata": {
    "id": "svYIjdYZFtJx"
   },
   "source": [
    "To check the boolean value of an expression or a variable, pass it as a parameter to the bool function:\n",
    "\n",
    "```python\n",
    "   print(bool(expression))\n",
    "```\n",
    "\n",
    "or\n",
    "\n",
    "```python\n",
    "   print(expression)\n",
    "```"
   ]
  },
  {
   "cell_type": "markdown",
   "metadata": {
    "id": "vbSNAlSrFtJx"
   },
   "source": [
    "Booleans can be used when there is a need to compare two or more values.\n",
    "\n",
    "```python\n",
    "   x == y    # x is equal to y\n",
    "   x != y    # x is not equal to y\n",
    "   x > y     # x is greater than y\n",
    "   x < y     # x is less than y\n",
    "   x >= y    # x is greater than or equal to y\n",
    "   x <= y    # x is less than or equal to y\n",
    "```"
   ]
  },
  {
   "cell_type": "markdown",
   "metadata": {
    "id": "TKKlWvUsFtJy"
   },
   "source": [
    "Check if x and y are equal:"
   ]
  },
  {
   "cell_type": "code",
   "execution_count": null,
   "metadata": {
    "id": "fwAS1X9XFtJy"
   },
   "outputs": [],
   "source": [
    "print(3==4) \n",
    "print(bool(3==4))"
   ]
  },
  {
   "cell_type": "markdown",
   "metadata": {
    "id": "xQLTUBR0FtJz"
   },
   "source": [
    "Check if x and y are not equal:"
   ]
  },
  {
   "cell_type": "code",
   "execution_count": null,
   "metadata": {
    "id": "sxlnR8ocFtJz"
   },
   "outputs": [],
   "source": [
    "print(3!=4) \n",
    "print(bool(3!=4))"
   ]
  },
  {
   "cell_type": "markdown",
   "metadata": {
    "id": "iTkzfArmFtJz"
   },
   "source": [
    "Check if x is greater than y:"
   ]
  },
  {
   "cell_type": "code",
   "execution_count": null,
   "metadata": {
    "id": "gZ3ebNAuFtJ0"
   },
   "outputs": [],
   "source": [
    "print(3>4) \n",
    "print(bool(3>4))"
   ]
  },
  {
   "cell_type": "markdown",
   "metadata": {
    "id": "vclMvPs-FtJ0"
   },
   "source": [
    "Check if x is less than y:"
   ]
  },
  {
   "cell_type": "code",
   "execution_count": null,
   "metadata": {
    "id": "Mt3Krpw5FtJ0"
   },
   "outputs": [],
   "source": [
    "print(3<4) \n",
    "print(bool(3<4))"
   ]
  },
  {
   "cell_type": "markdown",
   "metadata": {
    "id": "gRufNFswFtJ0"
   },
   "source": [
    "Check if x is greater than or equal to y:"
   ]
  },
  {
   "cell_type": "code",
   "execution_count": null,
   "metadata": {
    "id": "fzJj79ntFtJ1"
   },
   "outputs": [],
   "source": [
    "print(3>=4)\n",
    "print(bool(3>=4)) "
   ]
  },
  {
   "cell_type": "markdown",
   "metadata": {
    "id": "matBHUckFtJ1"
   },
   "source": [
    "Check if x is less than equal to y:"
   ]
  },
  {
   "cell_type": "code",
   "execution_count": null,
   "metadata": {
    "id": "ae_Sm7VPFtJ1"
   },
   "outputs": [],
   "source": [
    "print(3<=4)\n",
    "print(bool(3<=4)) "
   ]
  },
  {
   "cell_type": "markdown",
   "metadata": {
    "id": "TLxUu6GTFtJ2"
   },
   "source": [
    "## <font color=\"red\">Strings</font>"
   ]
  },
  {
   "cell_type": "markdown",
   "metadata": {
    "id": "YXWwJo9PFtJ2"
   },
   "source": [
    "* Strings are sequences of character data. \n",
    "* The string type in Python is called str.\n",
    "* String literals may be delimited using either single or double quotes.\n",
    "* All the characters between the opening delimiter and matching closing delimiter are part of the string.\n",
    "* <font color='blue'>Are immutable</font>."
   ]
  },
  {
   "cell_type": "code",
   "execution_count": null,
   "metadata": {
    "id": "Yn_7UPPUFtJ2"
   },
   "outputs": [],
   "source": [
    "print(\"Welcome to the Python Camp!\")"
   ]
  },
  {
   "cell_type": "code",
   "execution_count": null,
   "metadata": {
    "id": "bP3jfEoAFtJ2"
   },
   "outputs": [],
   "source": [
    "type(\"Welcome to the Python Camp!\")"
   ]
  },
  {
   "cell_type": "markdown",
   "metadata": {
    "id": "efVPOt1jFtJ3"
   },
   "source": [
    "* A string in Python can contain as many characters as you wish.\n",
    "* The only limit is your machine’s memory resources. "
   ]
  },
  {
   "cell_type": "code",
   "execution_count": null,
   "metadata": {
    "id": "uss_geVOFtJ3"
   },
   "outputs": [],
   "source": [
    "print(\"This string contains a single quote (') character.\")"
   ]
  },
  {
   "cell_type": "code",
   "execution_count": null,
   "metadata": {
    "id": "dKgpskoaFtJ4"
   },
   "outputs": [],
   "source": [
    "print('This string contains a double quote (\") character.')"
   ]
  },
  {
   "cell_type": "markdown",
   "metadata": {
    "id": "3Lk8MoVhFtJ4"
   },
   "source": [
    "<b> Escape Sequences in Strings </b>"
   ]
  },
  {
   "cell_type": "code",
   "execution_count": null,
   "metadata": {
    "id": "s0q70FK2FtJ4"
   },
   "outputs": [],
   "source": [
    "print('This string contains a single quote (\\'* character.')"
   ]
  },
  {
   "cell_type": "code",
   "execution_count": null,
   "metadata": {
    "id": "CQ6w4DdaFtJ5"
   },
   "outputs": [],
   "source": [
    "print(\"This string contains a double quote (\\\") character.\")"
   ]
  },
  {
   "cell_type": "code",
   "execution_count": null,
   "metadata": {
    "id": "1KbBYQ0oFtJ5"
   },
   "outputs": [],
   "source": [
    "print('abc')\n",
    "print('a\\\n",
    "b\\\n",
    "c')"
   ]
  },
  {
   "cell_type": "code",
   "execution_count": null,
   "metadata": {
    "id": "F7n8441MFtJ5"
   },
   "outputs": [],
   "source": [
    "print('foo\\\\bar')"
   ]
  },
  {
   "cell_type": "markdown",
   "metadata": {
    "id": "r0eppphTFtJ6"
   },
   "source": [
    "### Applying Special Meaning to Characters\n",
    "\n",
    "We want to represent escape sequences that are typically used to insert characters that are not readily generated from the keyboard or are not easily readable or printable.\n",
    "<P>\n",
    "Here is a list of escape sequences that cause Python to apply special meaning instead of interpreting literally:\n",
    "\n",
    "| Escape Sequence| “Escaped” Interpretation |\n",
    "| --- | --- |\n",
    "| \\a\t| ASCII Bell (BEL) character\n",
    "| \\b\t| ASCII Backspace (BS) character\n",
    "| \\f\t| ASCII Formfeed (FF) character\n",
    "| \\n\t| ASCII Linefeed (LF) character\n",
    "| \\N{<name>}| \tCharacter from Unicode database with given <name>\n",
    "| \\r\t| ASCII Carriage Return (CR) character\n",
    "| \\t\t| ASCII Horizontal Tab (TAB) character\n",
    "| \\uxxxx\t| Unicode character with 16-bit hex value xxxx\n",
    "| \\Uxxxxxxxx\t| Unicode character with 32-bit hex value xxxxxxxx\n",
    "| \\v\t| ASCII Vertical Tab (VT) character\n",
    "| \\ooo\t| Character with octal value ooo\n",
    "| \\xhh\t| Character with hex value hh"
   ]
  },
  {
   "cell_type": "code",
   "execution_count": null,
   "metadata": {
    "id": "IlN_9pteFtJ6"
   },
   "outputs": [],
   "source": [
    "print(\"a\\t\\t\\tb\")"
   ]
  },
  {
   "cell_type": "code",
   "execution_count": null,
   "metadata": {
    "id": "Xu2xeuOfFtJ7"
   },
   "outputs": [],
   "source": [
    "print(\"\\141\", \"\\x61\")"
   ]
  },
  {
   "cell_type": "code",
   "execution_count": null,
   "metadata": {
    "id": "dfBwnUOdFtJ7"
   },
   "outputs": [],
   "source": [
    "print(\"a\\n\\tb \")"
   ]
  },
  {
   "cell_type": "code",
   "execution_count": null,
   "metadata": {
    "id": "zgXKKNnpFtJ7"
   },
   "outputs": [],
   "source": [
    "print('\\u2192 \\N{rightwards arrow}')"
   ]
  },
  {
   "cell_type": "markdown",
   "metadata": {
    "id": "SxQl4sYkFtJ8"
   },
   "source": [
    "### Raw Strings\n",
    "\n",
    "- A raw string literal is preceded by `r` or `R`, which specifies that escape sequences in the associated string are not translated. \n",
    "- The backslash character is left in the string."
   ]
  },
  {
   "cell_type": "code",
   "execution_count": null,
   "metadata": {
    "id": "5fLhj8APFtJ8"
   },
   "outputs": [],
   "source": [
    "print('foo\\nbar')"
   ]
  },
  {
   "cell_type": "code",
   "execution_count": null,
   "metadata": {
    "id": "rdmpSKrMFtJ8"
   },
   "outputs": [],
   "source": [
    "print(r'foo\\nbar')"
   ]
  },
  {
   "cell_type": "code",
   "execution_count": null,
   "metadata": {
    "id": "SsUrz0IaFtJ9"
   },
   "outputs": [],
   "source": [
    "print('foo\\\\bar')"
   ]
  },
  {
   "cell_type": "code",
   "execution_count": null,
   "metadata": {
    "id": "6-jITO1MFtJ9"
   },
   "outputs": [],
   "source": [
    "print(R'foo\\\\bar')"
   ]
  },
  {
   "cell_type": "markdown",
   "metadata": {
    "id": "2G_lf4M-FtJ9"
   },
   "source": [
    "### Triple Quotes\n",
    "\n",
    "- Triple-quoted strings are delimited by matching groups of three single quotes or three double quotes. \n",
    "- Escape sequences still work in triple-quoted strings, but single quotes, double quotes, and newlines can be included without escaping them. \n",
    "- Provide a convenient way to create a string with both single and double quotes in it."
   ]
  },
  {
   "cell_type": "code",
   "execution_count": null,
   "metadata": {
    "id": "RiUVHslpFtJ9"
   },
   "outputs": [],
   "source": [
    "print('''This string has a single (') and a double (\") quote.''')"
   ]
  },
  {
   "cell_type": "code",
   "execution_count": null,
   "metadata": {
    "id": "ZDj5iTzyFtJ-"
   },
   "outputs": [],
   "source": [
    "print(\"\"\"This is a\n",
    "string that spans\n",
    "across several lines\"\"\")"
   ]
  },
  {
   "cell_type": "markdown",
   "metadata": {
    "id": "9qGPmkMzFtJ-"
   },
   "source": [
    "### Accessing Values in Strings\n",
    "- Python does not support a character type; these are treated as strings of length one, thus also considered a substring.\n",
    "- To access substrings, use the square brackets for slicing along with the index or indices to obtain your substring"
   ]
  },
  {
   "cell_type": "code",
   "execution_count": null,
   "metadata": {
    "id": "Ji76MKW2FtJ-"
   },
   "outputs": [],
   "source": [
    "astring1 = \"Welcome To the Python Camp!\"\n",
    "astring2 = \"A Training Course for Beginners.\""
   ]
  },
  {
   "cell_type": "code",
   "execution_count": null,
   "metadata": {
    "id": "aqWyCdZcFtJ_"
   },
   "outputs": [],
   "source": [
    "print(astring1[3:10])\n",
    "print(astring1[3:15:1])\n",
    "print(astring1[3:15:2])\n",
    "print(astring1[-2])"
   ]
  },
  {
   "cell_type": "markdown",
   "metadata": {
    "id": "rU7iYoPhFtJ_"
   },
   "source": [
    "- Python allows to index from the zeroth position in Strings. \n",
    "- Python also supports negative indexes. \n",
    "- Index of ‘-1’ represents the last character of the String. Similarly, using ‘-2’, we can access the penultimate element of the string and so on.\n",
    "\n",
    "| P | Y | T | H | O | N | - | S | T | R | I | N | G |\n",
    "|---|---|---|---|---|---|---|---|---|---|---|---|---|\n",
    "| 0 | 1 | 2 | 3 | 4 | 5 | 6 | 7 | 8 | 9 |10 |11 |12 |\n",
    "|-13|-12|-11|-10|-9 |-8 |-7 |-6 |-5 |-4 |-3 |-2 |-1 |"
   ]
  },
  {
   "cell_type": "markdown",
   "metadata": {
    "id": "NqYVmo1-FtJ_"
   },
   "source": [
    "### Updating Strings\n",
    "- You cannot modify a string for a <font color=\"red\">**string is immutable**</font>.\n",
    "    - A data item is considered to be immutable if once it is created, it cannot be changed.\n",
    "- You can \"update\" an existing string by (re)assigning a variable to another string. \n",
    "- The new value can be related to its previous value or to a completely different string altogether."
   ]
  },
  {
   "cell_type": "markdown",
   "metadata": {
    "id": "lq-RsDH1FtKA"
   },
   "source": [
    "We can use the `id()` function to obtain the identity of an object. The identity is a unique integer for that object during its lifetime. This is also the address of the object in memory."
   ]
  },
  {
   "cell_type": "code",
   "execution_count": null,
   "metadata": {
    "id": "pOgCqzyNFtKA"
   },
   "outputs": [],
   "source": [
    "id_before_astring1 = id(astring1)\n",
    "print(id_before_astring1)"
   ]
  },
  {
   "cell_type": "code",
   "execution_count": null,
   "metadata": {
    "id": "agJ1KIBFFtKA"
   },
   "outputs": [],
   "source": [
    "astring1[8] = 't'"
   ]
  },
  {
   "cell_type": "code",
   "execution_count": null,
   "metadata": {
    "id": "8xtBqJy8FtKB"
   },
   "outputs": [],
   "source": [
    "astring1 = astring1[0:8]+'t'+astring1[9:]\n",
    "print(astring1)"
   ]
  },
  {
   "cell_type": "code",
   "execution_count": null,
   "metadata": {
    "id": "ij2ow4jAFtKB"
   },
   "outputs": [],
   "source": [
    "id_after_astring1 = id(astring1)\n",
    "print(id_after_astring1)"
   ]
  },
  {
   "cell_type": "code",
   "execution_count": null,
   "metadata": {
    "id": "NDLUTsrlFtKC"
   },
   "outputs": [],
   "source": [
    "astring3 = astring1 + \" \" + astring2[0] + \" \" + astring2[11:]\n",
    "print(astring3)"
   ]
  },
  {
   "cell_type": "code",
   "execution_count": null,
   "metadata": {
    "id": "4g46GrtUFtKD"
   },
   "outputs": [],
   "source": [
    "print(astring1*2)\n",
    "print(astring2 * -1)"
   ]
  },
  {
   "cell_type": "code",
   "execution_count": null,
   "metadata": {
    "id": "yjASEDWBFtKD"
   },
   "outputs": [],
   "source": [
    "print ( \"Python\" in astring1)\n",
    "print ( \"python\" in astring1)\n",
    "print ( \"python\" not in astring1)"
   ]
  },
  {
   "cell_type": "markdown",
   "metadata": {
    "id": "WgoWli3eFtKE"
   },
   "source": [
    "### Built-in in String Operators"
   ]
  },
  {
   "cell_type": "markdown",
   "metadata": {
    "id": "pgU-jQwQFtKE"
   },
   "source": [
    "`capitalize()`:"
   ]
  },
  {
   "cell_type": "code",
   "execution_count": null,
   "metadata": {
    "id": "9A28HDp_FtKF"
   },
   "outputs": [],
   "source": [
    "\"funKY tOwn\".capitalize()"
   ]
  },
  {
   "cell_type": "markdown",
   "metadata": {
    "id": "tiFCyblFFtKF"
   },
   "source": [
    "`lower()` and `upper()`:"
   ]
  },
  {
   "cell_type": "code",
   "execution_count": null,
   "metadata": {
    "id": "vgiRvef3FtKF"
   },
   "outputs": [],
   "source": [
    "\"funky tOwn\".lower()"
   ]
  },
  {
   "cell_type": "code",
   "execution_count": null,
   "metadata": {
    "id": "5q4eesX2FtKG"
   },
   "outputs": [],
   "source": [
    "\"fuNky toWn\".upper()"
   ]
  },
  {
   "cell_type": "markdown",
   "metadata": {
    "id": "byIKB-4eFtKG"
   },
   "source": [
    "`split()`:"
   ]
  },
  {
   "cell_type": "code",
   "execution_count": null,
   "metadata": {
    "id": "PIUQJOwaFtKJ"
   },
   "outputs": [],
   "source": [
    "\"funKY tOwn\".split()"
   ]
  },
  {
   "cell_type": "code",
   "execution_count": null,
   "metadata": {
    "id": "Sp5vHK7zFtKK"
   },
   "outputs": [],
   "source": [
    "\"funKY tOwn\".capitalize().split()"
   ]
  },
  {
   "cell_type": "code",
   "execution_count": null,
   "metadata": {
    "id": "OZ9PVB6IFtKK"
   },
   "outputs": [],
   "source": [
    "\"I want to take you to, funKY tOwn\".split(\"u\")"
   ]
  },
  {
   "cell_type": "markdown",
   "metadata": {
    "id": "WYMwNJ_mFtKK"
   },
   "source": [
    "`strip()`:"
   ]
  },
  {
   "cell_type": "code",
   "execution_count": null,
   "metadata": {
    "id": "xb5yit9xFtKK"
   },
   "outputs": [],
   "source": [
    "csv_string = 'Dog,Cat,Spam,Defenestrate,1, 3.1415   \\n\\t'\n",
    "csv_string.strip()"
   ]
  },
  {
   "cell_type": "markdown",
   "metadata": {
    "id": "m3sWLtJSFtKL"
   },
   "source": [
    "`.join()`: allows you to glue a list of strings together with a certain string"
   ]
  },
  {
   "cell_type": "code",
   "execution_count": null,
   "metadata": {
    "id": "jtgxuqbnFtKL"
   },
   "outputs": [],
   "source": [
    "clean_list = [x.strip() for x in csv_string.split(\",\")]\n",
    "print(clean_list)"
   ]
  },
  {
   "cell_type": "code",
   "execution_count": null,
   "metadata": {
    "id": "Qh-tdqLsFtKL"
   },
   "outputs": [],
   "source": [
    "print(\",\".join(clean_list))"
   ]
  },
  {
   "cell_type": "code",
   "execution_count": null,
   "metadata": {
    "id": "e3jA_UuWFtKM"
   },
   "outputs": [],
   "source": [
    "print(\"\\t\".join(clean_list))"
   ]
  },
  {
   "cell_type": "markdown",
   "metadata": {
    "id": "OJ5qGP9aFtKM"
   },
   "source": [
    "`.replace()` strings in strings"
   ]
  },
  {
   "cell_type": "code",
   "execution_count": null,
   "metadata": {
    "id": "ZWL_RsjFFtKN"
   },
   "outputs": [],
   "source": [
    "csv_string = 'Dog,Cat,Spam,Defenestrate,1, 3.1415   \\n\\t'\n",
    "alt_csv = csv_string.strip().replace(',', ' ')\n",
    "print(alt_csv)"
   ]
  },
  {
   "cell_type": "code",
   "execution_count": null,
   "metadata": {
    "id": "7ufY4Bg0FtKN"
   },
   "outputs": [],
   "source": [
    "print(csv_string.strip().replace(' ','').replace(',','\\t'))"
   ]
  },
  {
   "cell_type": "markdown",
   "metadata": {
    "id": "lhBiXGP-FtKN"
   },
   "source": [
    "`.index()`:"
   ]
  },
  {
   "cell_type": "code",
   "execution_count": null,
   "metadata": {
    "id": "DlioB9zCFtKN"
   },
   "outputs": [],
   "source": [
    "s = 'My Funny Valentine'\n",
    "s.index(\"y\")"
   ]
  },
  {
   "cell_type": "markdown",
   "metadata": {
    "id": "Uxp3aQl4FtKO"
   },
   "source": [
    "`.count()`:"
   ]
  },
  {
   "cell_type": "code",
   "execution_count": null,
   "metadata": {
    "id": "MmMRTXHgFtKO"
   },
   "outputs": [],
   "source": [
    "s.count(\"y\")"
   ]
  },
  {
   "cell_type": "markdown",
   "metadata": {
    "id": "CCqh2NBDFtKO"
   },
   "source": [
    "`.find()`: useful searching, and returning the index of the search"
   ]
  },
  {
   "cell_type": "code",
   "execution_count": null,
   "metadata": {
    "id": "Hc53SfgvFtKP"
   },
   "outputs": [],
   "source": [
    "s.find(\"y\")"
   ]
  },
  {
   "cell_type": "code",
   "execution_count": null,
   "metadata": {
    "id": "fndRu8U0FtKP"
   },
   "outputs": [],
   "source": [
    "s.find(\"y\",2)"
   ]
  },
  {
   "cell_type": "code",
   "execution_count": null,
   "metadata": {
    "id": "AKwP5S82FtKP"
   },
   "outputs": [],
   "source": [
    "s[s.find(\"Funny\"):]"
   ]
  },
  {
   "cell_type": "markdown",
   "metadata": {
    "id": "I6PEbgoGFtKQ"
   },
   "source": [
    "Length of a string:"
   ]
  },
  {
   "cell_type": "code",
   "execution_count": null,
   "metadata": {
    "id": "SL7tnuP8FtKQ"
   },
   "outputs": [],
   "source": [
    "len(s)"
   ]
  },
  {
   "cell_type": "markdown",
   "metadata": {
    "id": "ErHrEbsiFtKQ"
   },
   "source": [
    "**Boolean Methods**\n",
    "\n",
    "| Method\t| True if |\n",
    "| --- | --- |\n",
    "| `str.isalnum()` |\tString consists of only alphanumeric characters (no symbols) |\n",
    "| `str.isalpha()` |\tString consists of only alphabetic characters (no symbols) |\n",
    "| `str.islower()` |\tString’s alphabetic characters are all lower case |\n",
    "| `str.isnumeric()` |\tString consists of only numeric characters |\n",
    "| `str.isspace()` |\tString consists of only whitespace characters |\n",
    "| `str.istitle()` |\tString is in title case |\n",
    "| `str.isupper()` |\tString’s alphabetic characters are all upper case |\n",
    "| `str.startswith()` | String starts with the specified value |\n",
    "| `str.endswith()` | String ends with the specified value |"
   ]
  },
  {
   "cell_type": "code",
   "execution_count": null,
   "metadata": {
    "id": "oveQx802FtKQ"
   },
   "outputs": [],
   "source": [
    "number = \"24579\"\n",
    "print(number.isnumeric())"
   ]
  },
  {
   "cell_type": "code",
   "execution_count": null,
   "metadata": {
    "id": "hKYq7qtjFtKR"
   },
   "outputs": [],
   "source": [
    "letters = \"PyTHoN\"\n",
    "print(letters.isnumeric())"
   ]
  },
  {
   "cell_type": "code",
   "execution_count": null,
   "metadata": {
    "id": "P3rA6hhvFtKR"
   },
   "outputs": [],
   "source": [
    "movie = \"2001: A SAMMY ODYSSEY\"\n",
    "book = \"A Thousand Splendid Sharks\"\n",
    "poem = \"sammy lived in a pretty how town\""
   ]
  },
  {
   "cell_type": "code",
   "execution_count": null,
   "metadata": {
    "id": "-OkM477BFtKR"
   },
   "outputs": [],
   "source": [
    "print(movie.islower())\n",
    "print(movie.isupper())\n",
    "print(movie.startswith(\"20\"))\n",
    "print(movie.endswith(\"sSEY\"))"
   ]
  },
  {
   "cell_type": "code",
   "execution_count": null,
   "metadata": {
    "id": "X96MYjgVFtKS"
   },
   "outputs": [],
   "source": [
    "print(book.istitle())\n",
    "print(book.isupper())"
   ]
  },
  {
   "cell_type": "code",
   "execution_count": null,
   "metadata": {
    "id": "W4RU-Ja6FtKS"
   },
   "outputs": [],
   "source": [
    "print(poem.istitle())\n",
    "print(poem.islower())"
   ]
  },
  {
   "cell_type": "markdown",
   "metadata": {
    "id": "-5mVwLpmFtKT"
   },
   "source": [
    "### String Formatting Operator"
   ]
  },
  {
   "cell_type": "markdown",
   "metadata": {
    "id": "uRDfYh_JFtKT"
   },
   "source": [
    "**Old Way** (Python 2): still valid\n",
    "\n",
    "```python\n",
    "   “  %(format)” % (variable)\n",
    "```"
   ]
  },
  {
   "cell_type": "code",
   "execution_count": null,
   "metadata": {
    "id": "mDfVOCg5FtKU"
   },
   "outputs": [],
   "source": [
    "my_string = \"There will be sunny day\"\n",
    "print(\"Big Announcement: %s tomorrow\" %(my_string))"
   ]
  },
  {
   "cell_type": "code",
   "execution_count": null,
   "metadata": {
    "id": "UtDZ2y9oFtKV"
   },
   "outputs": [],
   "source": [
    "import math\n",
    "print(\"My favorite integer is %i and my favorite float is %f,\\n\" \\\n",
    "    \" which to three decimal places is %.3f and in exponential form is %e\" \\\n",
    "     % (3,math.pi,math.pi,math.pi))"
   ]
  },
  {
   "cell_type": "markdown",
   "metadata": {
    "id": "I5AHjRJCFtKV"
   },
   "source": [
    "> % escapes “%”"
   ]
  },
  {
   "cell_type": "code",
   "execution_count": null,
   "metadata": {
    "id": "qhLRMBcyFtKV"
   },
   "outputs": [],
   "source": [
    "print(\"I promise to give 100%% effort whenever asked of %s.\" % (\"me\"))"
   ]
  },
  {
   "cell_type": "markdown",
   "metadata": {
    "id": "2Nwk7PxHFtKW"
   },
   "source": [
    "> \\+ and zero-padding"
   ]
  },
  {
   "cell_type": "code",
   "execution_count": null,
   "metadata": {
    "id": "b9KX6aVgFtKW"
   },
   "outputs": [],
   "source": [
    "print(\"%f\\n%+f\\n%f\\n%010f\\n%10s\" % (math.pi,math.pi,-1.0*math.pi,math.pi,\"pi\"))"
   ]
  },
  {
   "cell_type": "markdown",
   "metadata": {
    "id": "Yqq3DQOEFtKW"
   },
   "source": [
    "**New Way** (Python 3)\n",
    "\n",
    "```python\n",
    "string.format(value0,value1,....)\n",
    "```"
   ]
  },
  {
   "cell_type": "code",
   "execution_count": null,
   "metadata": {
    "id": "NI8u2E0XFtKX"
   },
   "outputs": [],
   "source": [
    "'On {}, I feel {}'.format(\"Saturday\", \"groovy\")"
   ]
  },
  {
   "cell_type": "code",
   "execution_count": null,
   "metadata": {
    "id": "0OgTvafxFtKX"
   },
   "outputs": [],
   "source": [
    "'On {0}, I feel {1}'.format(\"Saturday\", \"groovy\")"
   ]
  },
  {
   "cell_type": "code",
   "execution_count": null,
   "metadata": {
    "id": "MpMqrKLwFtKY"
   },
   "outputs": [],
   "source": [
    "'On {0}, I feel {0}'.format(\"Saturday\", \"groovy\")"
   ]
  },
  {
   "cell_type": "markdown",
   "metadata": {
    "id": "YW1vAMvWFtKY"
   },
   "source": [
    "You can assign by argument position or by name:"
   ]
  },
  {
   "cell_type": "code",
   "execution_count": null,
   "metadata": {
    "id": "-Lim_8R9FtKY"
   },
   "outputs": [],
   "source": [
    "'{desire} to {place}'.format(desire='Fly me', place='the Moon')"
   ]
  },
  {
   "cell_type": "code",
   "execution_count": null,
   "metadata": {
    "id": "IXuqO3JaFtKY"
   },
   "outputs": [],
   "source": [
    "'{desire} to {place} or else I wont visit {place}.'.format( \\\n",
    "                 desire='Fly me',place='the Moon')"
   ]
  },
  {
   "cell_type": "code",
   "execution_count": null,
   "metadata": {
    "id": "M3yg6ZdyFtKZ"
   },
   "outputs": [],
   "source": [
    "f = {\"desire\": \"I want to take you\", \"place\": \"funky town\"}\n",
    "'{desire} to {place}'.format(**f)"
   ]
  },
  {
   "cell_type": "markdown",
   "metadata": {
    "id": "PWyI3FHqFtKZ"
   },
   "source": [
    "**Formatting comes after a colon (:)**"
   ]
  },
  {
   "cell_type": "code",
   "execution_count": null,
   "metadata": {
    "id": "SSi5-vZpFtKZ"
   },
   "outputs": [],
   "source": [
    "(\"%03.2f\" % 3.14159) ==  \"{:03.2f}\".format(3.14159)"
   ]
  },
  {
   "cell_type": "code",
   "execution_count": null,
   "metadata": {
    "id": "6igoTExQFtKa"
   },
   "outputs": [],
   "source": [
    "\"{0:03.2f}\".format(3.14159, 42)"
   ]
  },
  {
   "cell_type": "code",
   "execution_count": null,
   "metadata": {
    "id": "2Tjw-Km0FtKa"
   },
   "outputs": [],
   "source": [
    "\"{1:03.2f}\".format(3.14159, 42)"
   ]
  },
  {
   "cell_type": "markdown",
   "metadata": {
    "id": "aoIhM8kqFtKa"
   },
   "source": [
    "Format also supports binary numbers:"
   ]
  },
  {
   "cell_type": "code",
   "execution_count": null,
   "metadata": {
    "id": "h-8IpbKyFtKb"
   },
   "outputs": [],
   "source": [
    "\"int: {0:d};  hex: {0:x};  oct: {0:o};  bin: {0:b}\".format(42)"
   ]
  },
  {
   "cell_type": "markdown",
   "metadata": {
    "id": "SKM96jciFtKb"
   },
   "source": [
    "## <font color=\"red\">Type Casting</font>\n",
    "\n",
    "- Type casting is the process of converting data from one type into another.\n",
    "- There are a number of functions built in to Python which allow us to do these type conversions on basic data types."
   ]
  },
  {
   "cell_type": "markdown",
   "metadata": {
    "id": "Q3JrbgQ5FtKb"
   },
   "source": [
    "**Convert to Integer**"
   ]
  },
  {
   "cell_type": "code",
   "execution_count": null,
   "metadata": {
    "id": "U0xjp3akFtKc"
   },
   "outputs": [],
   "source": [
    "v1 = int(2.7)        # 2\n",
    "v2 = int(-3.9)       # -3\n",
    "v3 = int(\"2\")        # 2\n",
    "v4 = int(\"11\", 16)   # 17, base 16\n",
    "v5 = int(False)\n",
    "print(v1, v2, v3, v4, v5)"
   ]
  },
  {
   "cell_type": "markdown",
   "metadata": {
    "id": "vNI5OSqZFtKc"
   },
   "source": [
    "**Convert to Float**"
   ]
  },
  {
   "cell_type": "code",
   "execution_count": null,
   "metadata": {
    "id": "eZP0wGg8FtKc"
   },
   "outputs": [],
   "source": [
    "v6 = float(2)        # 2.0\n",
    "v7 = float(\"2.7\")    # 2.7\n",
    "v8 = float(\"2.7E-2\") # 0.027\n",
    "v9 = float(False)    # 0.0\n",
    "vA = float(True)     # 1.0\n",
    "print(v6, v7, v8, v9, vA)"
   ]
  },
  {
   "cell_type": "markdown",
   "metadata": {
    "id": "cNU_7IVwFtKd"
   },
   "source": [
    "**Convert to String**"
   ]
  },
  {
   "cell_type": "code",
   "execution_count": null,
   "metadata": {
    "id": "uSB-IwAYFtKd"
   },
   "outputs": [],
   "source": [
    "vB = str(4.5)        # \"4.5\"\n",
    "vC = str(True)\n",
    "print(vB, vC, type(vC))"
   ]
  },
  {
   "cell_type": "markdown",
   "metadata": {
    "id": "A6sWY5nzFtKd"
   },
   "source": [
    "**Convert to Bolean**"
   ]
  },
  {
   "cell_type": "code",
   "execution_count": null,
   "metadata": {
    "id": "KykC_gJzFtKd"
   },
   "outputs": [],
   "source": [
    "vD = bool(0)         #       False; \n",
    "vE = bool(3)         # True\n",
    "vF = bool(\"PyTHoN\")\n",
    "vG = bool(list())\n",
    "print(vD, vE, vF, vG)"
   ]
  },
  {
   "cell_type": "code",
   "execution_count": null,
   "metadata": {
    "id": "OvAdepwNFtKe"
   },
   "outputs": [],
   "source": [
    "int1 = 4\n",
    "\n",
    "# 4 converted to float\n",
    "float1 = int1 + 2.1 \n",
    "\n",
    "# str1 = \"My int:\" + int1 \n",
    "# Error: no implicit type conversion from int to string\n",
    "str1 = \"My int:\" + str(int1)\n",
    "\n",
    "int2 = 4 + True # 5: bool is implicitly converted to int\n",
    "print(\"float1 = {} \\n str1  = {} \\n\".format(float1, str1, int2))"
   ]
  },
  {
   "cell_type": "code",
   "execution_count": null,
   "metadata": {
    "id": "LciK2my-FtKe"
   },
   "outputs": [],
   "source": [
    "age = 21\n",
    "sign = 'You must be  {}-years-old to enter this bar'.format(age)\n",
    "print(sign)"
   ]
  },
  {
   "cell_type": "markdown",
   "metadata": {
    "id": "vAdZ1d1yFtKf"
   },
   "source": [
    "# Exercise"
   ]
  },
  {
   "cell_type": "markdown",
   "metadata": {
    "id": "Kz90mW6qFtKf"
   },
   "source": [
    "Try to fix the code to print out the correct information by changing the string."
   ]
  },
  {
   "cell_type": "code",
   "execution_count": null,
   "metadata": {
    "id": "BV9FtkORFtKf"
   },
   "outputs": [],
   "source": [
    "s = \"Hey there! what should this string be?\"\n",
    "# Length should be 20\n",
    "print(\"Length of s = {}\".format(len(s)))\n",
    "\n",
    "# First occurrence of \"a\" should be at index 8\n",
    "print(\"The first occurrence of the letter a = {}\".format(s.index(\"a\")))\n",
    "\n",
    "# Number of a's should be 2\n",
    "print(\"a occurs {} times\".format(s.count(\"a\")))\n"
   ]
  },
  {
   "cell_type": "markdown",
   "metadata": {
    "id": "Yotmt7u3FtKf"
   },
   "source": [
    "## <font color='red'>Quiz </font>\n",
    "\n",
    "Consider taking the following quiz to test your knowledge: <A HREF=\"https://realpython.com/quizzes/python-data-types/\"> Basic Data Types </A>\n"
   ]
  },
  {
   "cell_type": "code",
   "execution_count": null,
   "metadata": {
    "id": "tOVlUPveFtKg"
   },
   "outputs": [],
   "source": []
  }
 ],
 "metadata": {
  "anaconda-cloud": {},
  "colab": {
   "name": "Copy of python_data_types.ipynb",
   "provenance": [
    {
     "file_id": "https://github.com/astg606/py_materials/blob/master/data_types/python_data_types.ipynb",
     "timestamp": 1649520642088
    }
   ]
  },
  "kernelspec": {
   "display_name": "Python 3 (ipykernel)",
   "language": "python",
   "name": "python3"
  },
  "language_info": {
   "codemirror_mode": {
    "name": "ipython",
    "version": 3
   },
   "file_extension": ".py",
   "mimetype": "text/x-python",
   "name": "python",
   "nbconvert_exporter": "python",
   "pygments_lexer": "ipython3",
   "version": "3.9.7"
  }
 },
 "nbformat": 4,
 "nbformat_minor": 1
}
