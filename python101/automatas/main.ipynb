{
 "cells": [
  {
   "cell_type": "code",
   "execution_count": 2,
   "id": "813b0794-0475-4c8a-86f0-082b01274b98",
   "metadata": {},
   "outputs": [
    {
     "name": "stdin",
     "output_type": "stream",
     "text": [
      "Ingrese una cadena de texto: pako chavez\n"
     ]
    },
    {
     "name": "stdout",
     "output_type": "stream",
     "text": [
      "\t Buscando la palabra pako\n",
      "\t Buscando la palabra chavez\n",
      "[None, None]\n"
     ]
    }
   ],
   "source": [
    "\n",
    "def find_sustantivos(palabra):\n",
    "    fid = open('db.txt','r')\n",
    "    for line in fid:\n",
    "        data = line.split(':')#0-> token, 1->lista palabras        \n",
    "        #print(f\"\\n\\t DEBUG: {data[1]} \\t {palabra}\")\n",
    "        #print(f\"encontrado {data[0]}\") if palabra in data[1] else print(\"\")    \n",
    "        for db_string in data[1].split(','):\n",
    "            #print(f\"busca [{db_string} -> [{palabra}]\")\n",
    "            if palabra in db_string:\n",
    "                print(f\"\\n\\t Si lo encontre y su token es {data[0]}\\n\")\n",
    "                fid.close()\n",
    "                return int(data[0])\n",
    "    fid.close()\n",
    "\n",
    "lista_tokens = []\n",
    "cadena_usuario = input(\"Ingrese una cadena de texto:\")\n",
    "for componente in cadena_usuario.split():\n",
    "    print(f\"\\t Buscando la palabra {componente}\")\n",
    "    lista_tokens.append(find_sustantivos(componente))\n",
    "print(lista_tokens)\n",
    "\n",
    "lista_tokens2 = [find_sustantivos(componente) for componente in cadena_usuario.split()]"
   ]
  },
  {
   "cell_type": "code",
   "execution_count": null,
   "id": "37f4f4cc-6ad3-46f2-a59f-085a76078121",
   "metadata": {},
   "outputs": [],
   "source": []
  }
 ],
 "metadata": {
  "kernelspec": {
   "display_name": "Python 3 (ipykernel)",
   "language": "python",
   "name": "python3"
  },
  "language_info": {
   "codemirror_mode": {
    "name": "ipython",
    "version": 3
   },
   "file_extension": ".py",
   "mimetype": "text/x-python",
   "name": "python",
   "nbconvert_exporter": "python",
   "pygments_lexer": "ipython3",
   "version": "3.10.12"
  }
 },
 "nbformat": 4,
 "nbformat_minor": 5
}
