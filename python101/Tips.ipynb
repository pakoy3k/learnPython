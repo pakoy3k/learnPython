{
 "cells": [
  {
   "cell_type": "markdown",
   "id": "f61de660",
   "metadata": {},
   "source": [
    "## <font color=\"red\">Algunos tips para mejorar tu codigo y utilizar python al maximo </font>"
   ]
  },
  {
   "cell_type": "markdown",
   "id": "0f58a358",
   "metadata": {},
   "source": [
    "# Variables, Strings , Numbers"
   ]
  },
  {
   "cell_type": "code",
   "execution_count": 1,
   "id": "9a07e68c",
   "metadata": {},
   "outputs": [
    {
     "ename": "SyntaxError",
     "evalue": "invalid decimal literal (3334604612.py, line 3)",
     "output_type": "error",
     "traceback": [
      "\u001b[0;36m  Cell \u001b[0;32mIn[1], line 3\u001b[0;36m\u001b[0m\n\u001b[0;31m    4_letters = \"abcd\"\u001b[0m\n\u001b[0m     ^\u001b[0m\n\u001b[0;31mSyntaxError\u001b[0m\u001b[0;31m:\u001b[0m invalid decimal literal\n"
     ]
    }
   ],
   "source": [
    "four_letters = \"abdc\"\n",
    "print(four_letters)\n",
    "4_letters = \"abcd\"\n",
    "print(4_letters)"
   ]
  },
  {
   "cell_type": "code",
   "execution_count": 3,
   "id": "155eba7d",
   "metadata": {},
   "outputs": [
    {
     "name": "stdout",
     "output_type": "stream",
     "text": [
      "This \n",
      "Ti sjs  \n",
      "satu ish\n",
      "suj si sih\n",
      "This is just a senten\n",
      "This is\n"
     ]
    }
   ],
   "source": [
    "my_string = \"This is just a sentence\"\n",
    "print(my_string[0:5])\n",
    "print(my_string[0:15:2])\n",
    "print(my_string[15:0:-2])\n",
    "print(my_string[10:0:-1])\n",
    "print(my_string[0:-2])\n",
    "print(my_string[:7])"
   ]
  },
  {
   "cell_type": "code",
   "execution_count": 5,
   "id": "1c83e1ca",
   "metadata": {},
   "outputs": [
    {
     "name": "stdout",
     "output_type": "stream",
     "text": [
      "just a sentence\n"
     ]
    }
   ],
   "source": [
    "print(my_string[8:])"
   ]
  },
  {
   "cell_type": "code",
   "execution_count": 6,
   "id": "71568799",
   "metadata": {},
   "outputs": [
    {
     "name": "stdout",
     "output_type": "stream",
     "text": [
      "Th\n",
      "Ti s\n",
      "j si sih\n",
      "si sihT\n"
     ]
    }
   ],
   "source": [
    "print(my_string[:2])\n",
    "#take two steps forward\n",
    "print(my_string[0:7:2])\n",
    "#reverse slicing\n",
    "print(my_string[8:0:-1])\n",
    "print(my_string[6::-1])"
   ]
  },
  {
   "cell_type": "code",
   "execution_count": 7,
   "id": "1a21c3a4",
   "metadata": {},
   "outputs": [
    {
     "name": "stdout",
     "output_type": "stream",
     "text": [
      "1 2 3 a z this is here here is something else\n",
      "1 2 3a z this is here here is something else\n",
      "this is here\n",
      "here is something else\n",
      "1- 2- 3- a- z- this is here- here is something else\n"
     ]
    }
   ],
   "source": [
    "print(1, 2, 3, \"a\", \"z\", \"this is here\", \"here is something else\")\n",
    "print(1, 2, 3, end=\"\")\n",
    "print(\"a\", \"z\", \"this is here\", \"here is something else\")\n",
    "print(\"this is here\", )\n",
    "print(\"here is something else\", end=\"\")\n",
    "print(\"\")\n",
    "print(1, 2, 3, \"a\", \"z\", \"this is here\", \"here is something else\", sep=\"- \")"
   ]
  },
  {
   "cell_type": "code",
   "execution_count": 9,
   "id": "e3933181",
   "metadata": {},
   "outputs": [
    {
     "name": "stdout",
     "output_type": "stream",
     "text": [
      "True\n"
     ]
    }
   ],
   "source": [
    "##anagrams\n",
    "\n",
    "def if_anagram(fword,sword):\n",
    "    fword = fword.lower()\n",
    "    sword = sword.lower()\n",
    "    print(sorted(fword) == sorted(sword))\n",
    "\n",
    "if_anagram(\"eTstinG\",\"Testing\")"
   ]
  },
  {
   "cell_type": "code",
   "execution_count": 10,
   "id": "e91a247b",
   "metadata": {},
   "outputs": [
    {
     "name": "stdout",
     "output_type": "stream",
     "text": [
      "127653668012272\n",
      "127653668012304\n"
     ]
    },
    {
     "ename": "NameError",
     "evalue": "name 'string' is not defined",
     "output_type": "error",
     "traceback": [
      "\u001b[0;31m---------------------------------------------------------------------------\u001b[0m",
      "\u001b[0;31mNameError\u001b[0m                                 Traceback (most recent call last)",
      "Cell \u001b[0;32mIn[10], line 3\u001b[0m\n\u001b[1;32m      1\u001b[0m \u001b[38;5;28mprint\u001b[39m(\u001b[38;5;28mid\u001b[39m(\u001b[38;5;241m1\u001b[39m))\n\u001b[1;32m      2\u001b[0m \u001b[38;5;28mprint\u001b[39m(\u001b[38;5;28mid\u001b[39m(\u001b[38;5;241m2\u001b[39m))\n\u001b[0;32m----> 3\u001b[0m \u001b[38;5;28mprint\u001b[39m(\u001b[38;5;28mid\u001b[39m(\u001b[43mstring\u001b[49m))\n\u001b[1;32m      4\u001b[0m number \u001b[38;5;241m=\u001b[39m \u001b[38;5;241m1\u001b[39m\n\u001b[1;32m      5\u001b[0m \u001b[38;5;28mprint\u001b[39m(\u001b[38;5;28mid\u001b[39m(number))\n",
      "\u001b[0;31mNameError\u001b[0m: name 'string' is not defined"
     ]
    }
   ],
   "source": [
    "print(id(1))\n",
    "print(id(2))\n",
    "print(id(string))\n",
    "number = 1\n",
    "print(id(number))\n",
    "stri = \"string1\"\n",
    "print(id(stri))"
   ]
  },
  {
   "cell_type": "code",
   "execution_count": 11,
   "id": "42e89c1e",
   "metadata": {},
   "outputs": [
    {
     "name": "stdout",
     "output_type": "stream",
     "text": [
      "127653297751344\n",
      "127653297760048\n"
     ]
    }
   ],
   "source": [
    "#strings and tuples area immutable\n",
    "name = \"Jack\"\n",
    "print(id(name))\n",
    "name = \"jack\"\n",
    "print(id(name))\n",
    "#name[1] = 'd'"
   ]
  },
  {
   "cell_type": "code",
   "execution_count": 9,
   "id": "3e35999b",
   "metadata": {},
   "outputs": [
    {
     "name": "stdout",
     "output_type": "stream",
     "text": [
      "139720058292720\n",
      "139720079244032\n"
     ]
    }
   ],
   "source": [
    "my_tuble = (1,2,3,4)\n",
    "print(id(my_tuble))\n",
    "\n",
    "my_tuble = (1,2,3)\n",
    "print(id(my_tuble))\n"
   ]
  },
  {
   "cell_type": "code",
   "execution_count": 13,
   "id": "54a58376",
   "metadata": {},
   "outputs": [
    {
     "name": "stdout",
     "output_type": "stream",
     "text": [
      "139720058471808\n",
      "139720058471808\n"
     ]
    }
   ],
   "source": [
    "#lists, sets, and dictionaries are mutables\n",
    "cities = [\"Ensenada\",\"London\",\"Iowa\"]\n",
    "print(id(cities))\n",
    "cities.append(\"Paris\")\n",
    "print(id(cities))"
   ]
  },
  {
   "cell_type": "code",
   "execution_count": 235,
   "id": "5757fc1b",
   "metadata": {},
   "outputs": [
    {
     "name": "stdout",
     "output_type": "stream",
     "text": [
      "139720057978656\n"
     ]
    }
   ],
   "source": [
    "#lists, sets, and dictionaries are mutables\n",
    "cities = frozenset([\"Ensenada\",\"London\",\"Iowa\"])\n",
    "print(id(cities))\n",
    "#cities.append(\"Paris\")"
   ]
  },
  {
   "cell_type": "code",
   "execution_count": 16,
   "id": "930be3d1",
   "metadata": {},
   "outputs": [
    {
     "name": "stdout",
     "output_type": "stream",
     "text": [
      "139720076099136\n",
      "139720076099136\n"
     ]
    }
   ],
   "source": [
    "my_set = {1,1,2,3}\n",
    "print(id(my_set))\n",
    "my_set.add(5)\n",
    "print(id(my_set))"
   ]
  },
  {
   "cell_type": "code",
   "execution_count": 154,
   "id": "a063d3a3",
   "metadata": {},
   "outputs": [
    {
     "name": "stdout",
     "output_type": "stream",
     "text": [
      "frozenset({1, 2, 3})\n",
      "139720057977760\n",
      "1\n",
      "2\n",
      "3\n"
     ]
    }
   ],
   "source": [
    "#set immutable\n",
    "my_set = frozenset({1,1,2,3})\n",
    "print(my_set)\n",
    "print(id(my_set))\n",
    "for ms in my_set:\n",
    "    print(ms)\n",
    "#my_set.add(5)"
   ]
  },
  {
   "cell_type": "code",
   "execution_count": 24,
   "id": "1fbb95f4",
   "metadata": {},
   "outputs": [
    {
     "name": "stdout",
     "output_type": "stream",
     "text": [
      "{'blue': 'azul', 'red': 'rojo', 'siglo': 100}\n",
      "139720058494656\n",
      "{'blue': 'azul', 'red': 'FF000', 'siglo': 100}\n",
      "139720058494656\n",
      "{'blue': 'azul', 'red': 'FF000', 'siglo': 100, 'email': 'corre@mi.com'}\n",
      "139720058494656\n"
     ]
    }
   ],
   "source": [
    "my_dicti ={\"blue\":\"azul\",\"red\":\"rojo\",\"siglo\":100}\n",
    "print(my_dicti)\n",
    "print(id(my_dicti))\n",
    "my_dicti[\"red\"] = \"FF000\"\n",
    "print(my_dicti)\n",
    "print(id(my_dicti))\n",
    "my_dicti[\"email\"]=\"corre@mi.com\"\n",
    "print(my_dicti)\n",
    "print(id(my_dicti))\n"
   ]
  },
  {
   "cell_type": "code",
   "execution_count": 136,
   "id": "d5054efd",
   "metadata": {},
   "outputs": [
    {
     "name": "stdout",
     "output_type": "stream",
     "text": [
      "AbCdAbCdAbCd\n"
     ]
    }
   ],
   "source": [
    "string = \"AbCd\"\n",
    "print(string * 3)"
   ]
  },
  {
   "cell_type": "code",
   "execution_count": 37,
   "id": "4b342ab5",
   "metadata": {},
   "outputs": [
    {
     "name": "stdout",
     "output_type": "stream",
     "text": [
      "True\n",
      "False\n"
     ]
    }
   ],
   "source": [
    "first = \"abc\"\n",
    "second = \"def\"\n",
    "print(first < second)\n",
    "second = \"ab\"\n",
    "print(first < second)"
   ]
  },
  {
   "cell_type": "code",
   "execution_count": 38,
   "id": "51b3e3c8",
   "metadata": {},
   "outputs": [
    {
     "name": "stdout",
     "output_type": "stream",
     "text": [
      "65\n",
      "50\n",
      "45\n"
     ]
    }
   ],
   "source": [
    "##get the value of the character in unicode\n",
    "print(ord(\"A\"))\n",
    "print(ord(\"2\"))\n",
    "print(ord(\"-\"))"
   ]
  },
  {
   "cell_type": "code",
   "execution_count": 188,
   "id": "b277aa07",
   "metadata": {},
   "outputs": [
    {
     "name": "stdout",
     "output_type": "stream",
     "text": [
      "False\n",
      "True\n",
      "False\n",
      "True\n"
     ]
    }
   ],
   "source": [
    "my_string=\"abcdf\"\n",
    "print(my_string.startswith(\"b\"))\n",
    "print(my_string.startswith(\"a\"))\n",
    "print(my_string.endswith(\"b\"))\n",
    "print(my_string.endswith(\"f\"))"
   ]
  },
  {
   "cell_type": "code",
   "execution_count": null,
   "id": "5de13ec6",
   "metadata": {},
   "outputs": [],
   "source": []
  },
  {
   "cell_type": "code",
   "execution_count": 170,
   "id": "beaadda6",
   "metadata": {},
   "outputs": [
    {
     "name": "stdout",
     "output_type": "stream",
     "text": [
      "abcd\n",
      "abdc\n"
     ]
    }
   ],
   "source": [
    "a____b = \"abcd\"\n",
    "print(a____b)\n",
    "_a_b_c_d = \"abdc\"\n",
    "print(_a_b_c_d)"
   ]
  },
  {
   "cell_type": "code",
   "execution_count": 173,
   "id": "853bdc54",
   "metadata": {},
   "outputs": [
    {
     "name": "stdout",
     "output_type": "stream",
     "text": [
      "False\n",
      "True\n"
     ]
    }
   ],
   "source": [
    "#check if a string has all its words starting with an uppercase character\n",
    "string = \"This is a sentence\"\n",
    "print(string.istitle())\n",
    "string = \"This Is A Sentence\"\n",
    "print(string.istitle())"
   ]
  },
  {
   "cell_type": "code",
   "execution_count": 236,
   "id": "d4b55560",
   "metadata": {},
   "outputs": [
    {
     "name": "stdout",
     "output_type": "stream",
     "text": [
      "True\n"
     ]
    }
   ],
   "source": [
    "x = 3\n",
    "print(1 < x < 10)"
   ]
  },
  {
   "cell_type": "code",
   "execution_count": 241,
   "id": "285f6bf3",
   "metadata": {},
   "outputs": [
    {
     "name": "stdout",
     "output_type": "stream",
     "text": [
      "True\n",
      "False\n",
      "False\n",
      "False\n",
      "False\n",
      "True\n",
      "False\n",
      "False\n",
      "False\n"
     ]
    }
   ],
   "source": [
    "print(bool(\"Non empty\"))\n",
    "print(bool(\"\"))\n",
    "print(bool([]))\n",
    "print(bool(set([])))\n",
    "print(bool({}))\n",
    "print(bool({\"a\":1}))\n",
    "print(bool(False))\n",
    "print(bool(None))\n",
    "print(bool(0))"
   ]
  },
  {
   "cell_type": "code",
   "execution_count": 245,
   "id": "c52dc5e1",
   "metadata": {},
   "outputs": [
    {
     "name": "stdout",
     "output_type": "stream",
     "text": [
      "string\n",
      "global string\n"
     ]
    }
   ],
   "source": [
    "string = \"string\"\n",
    "\n",
    "def do_nothing():\n",
    "    string = \"do nothing string\"\n",
    "\n",
    "def do_nothing_global():\n",
    "    global string\n",
    "    string = \"global string\"\n",
    "\n",
    "do_nothing()\n",
    "print(string)\n",
    "do_nothing_global()\n",
    "print(string)"
   ]
  },
  {
   "cell_type": "markdown",
   "id": "61b565d7",
   "metadata": {},
   "source": [
    "# Difference between == and \"is\"\n",
    "- \"is\" check wheter 2 variables are pointing to the same object in memory.\n",
    "- \"==\" compares the equality of values that there 2 objects hold.\n"
   ]
  },
  {
   "cell_type": "code",
   "execution_count": 12,
   "id": "9358da90",
   "metadata": {},
   "outputs": [
    {
     "name": "stdout",
     "output_type": "stream",
     "text": [
      "True\n",
      "False\n",
      "True\n",
      "False\n"
     ]
    }
   ],
   "source": [
    "first_list = [1,2,3]\n",
    "second_list = [1,2,3]\n",
    "print(first_list == second_list)\n",
    "print(first_list is second_list)\n",
    "third_list = first_list\n",
    "print(first_list is third_list)\n",
    "import copy\n",
    "fourth_list = copy.copy(first_list)\n",
    "print(first_list is fourth_list)"
   ]
  },
  {
   "cell_type": "code",
   "execution_count": 288,
   "id": "27601f2e",
   "metadata": {},
   "outputs": [
    {
     "name": "stdout",
     "output_type": "stream",
     "text": [
      "True\n",
      "True\n",
      "False\n",
      "[1, 3, 2, 3]\n",
      "Counter({3: 2, 1: 1, 2: 1})\n",
      "Most common:  [(3, 2), (1, 1), (2, 1)]\n",
      "The most frequent element is: 3\n",
      "Counter({'a': 3, 'n': 2, 'B': 1})\n",
      "2\n",
      "{'B': 1, 'a': 3, 'n': 2}\n",
      "dict_values([1, 3, 2])\n",
      "B --> 1\n",
      "a --> 3\n",
      "n --> 2\n",
      "result.dict most common [('a', 3), ('n', 2), ('B', 1)]\n",
      "False\n"
     ]
    }
   ],
   "source": [
    "my_list = [1,3,2,3]\n",
    "my_list2 = []\n",
    "#length with compare\n",
    "if len(my_list) > 0:\n",
    "    print(\"True\")\n",
    "\n",
    "if len(my_list):\n",
    "    print(\"True\")\n",
    "\n",
    "if len(my_list2):\n",
    "    print(\"True\")\n",
    "else:\n",
    "    print(\"False\")\n",
    "\n",
    "if my_list[2] == True:\n",
    "    print(\"True == \")\n",
    "print(my_list)\n",
    "\n",
    "from collections import Counter\n",
    "result = Counter(my_list)\n",
    "print(result)\n",
    "print(\"Most common: \", result.most_common())\n",
    "print(\"The most frequent element is:\", max(set(my_list), key=my_list.count))    \n",
    "string = \"Banana\"\n",
    "result = Counter(string)\n",
    "print(result)\n",
    "print(result['n'])\n",
    "result_dict = dict(result)\n",
    "print(result_dict)\n",
    "print(result_dict.values())\n",
    "for e,v in result_dict.items():\n",
    "    print(e,'-->',v) \n",
    "print(\"result.dict most common\", result.most_common())    \n",
    "#using Counter for check if 2 strings are anagrams\n",
    "word1 = \"string\"\n",
    "word2 = \"string1\"\n",
    "print(Counter(word1.lower()) == Counter(word2.lower()))\n",
    "\n",
    "\n",
    "    "
   ]
  },
  {
   "cell_type": "code",
   "execution_count": null,
   "id": "6c99dace",
   "metadata": {},
   "outputs": [],
   "source": []
  },
  {
   "cell_type": "markdown",
   "id": "027310d8",
   "metadata": {},
   "source": [
    "# Dictionaries"
   ]
  },
  {
   "cell_type": "code",
   "execution_count": 43,
   "id": "30b54da6",
   "metadata": {},
   "outputs": [
    {
     "name": "stdout",
     "output_type": "stream",
     "text": [
      "{'a': 1, 'b': 2, 'c': 3, 'd': 4}\n"
     ]
    }
   ],
   "source": [
    "#merge 2 dicts\n",
    "dictionary_one = {\"a\":1, \"b\":2}\n",
    "dictionary_two = {\"c\":3, \"d\":4}\n",
    "\n",
    "merged = {**dictionary_one, **dictionary_two}\n",
    "print(merged)\n"
   ]
  },
  {
   "cell_type": "code",
   "execution_count": 48,
   "id": "a696fdb6",
   "metadata": {},
   "outputs": [
    {
     "name": "stdout",
     "output_type": "stream",
     "text": [
      "dict_keys(['a', 'b'])\n",
      "['a', 'b']\n",
      "[1, 2]\n",
      "{1: 'a', 2: 'b'}\n"
     ]
    }
   ],
   "source": [
    "# get keys of a dictionary\n",
    "keys = dictionary_one.keys()\n",
    "print(keys)\n",
    "print(list(keys))\n",
    "# get values\n",
    "values = dictionary_one.values()\n",
    "print(list(values))\n",
    "#swap keys and values\n",
    "reverse_dictionary = {j:i for i, j in dictionary_one.items()}\n",
    "print(reverse_dictionary)"
   ]
  },
  {
   "cell_type": "code",
   "execution_count": 175,
   "id": "356f64ae",
   "metadata": {},
   "outputs": [
    {
     "data": {
      "text/plain": [
       "True"
      ]
     },
     "execution_count": 175,
     "metadata": {},
     "output_type": "execute_result"
    }
   ],
   "source": [
    "a = 1\n",
    "b = 3\n",
    "a - b != b - a"
   ]
  },
  {
   "cell_type": "markdown",
   "id": "4fdab5ff",
   "metadata": {},
   "source": [
    "## >>>> Math <<<<"
   ]
  },
  {
   "cell_type": "code",
   "execution_count": 128,
   "id": "f6386a27",
   "metadata": {},
   "outputs": [
    {
     "name": "stdout",
     "output_type": "stream",
     "text": [
      "1.5\n",
      "1\n"
     ]
    }
   ],
   "source": [
    "print(3/2)\n",
    "print(3//2)"
   ]
  },
  {
   "cell_type": "code",
   "execution_count": 55,
   "id": "ccae22a3",
   "metadata": {},
   "outputs": [
    {
     "ename": "SyntaxError",
     "evalue": "leading zeros in decimal integer literals are not permitted; use an 0o prefix for octal integers (2557972969.py, line 1)",
     "output_type": "error",
     "traceback": [
      "\u001b[0;36m  File \u001b[0;32m\"/tmp/ipykernel_14351/2557972969.py\"\u001b[0;36m, line \u001b[0;32m1\u001b[0m\n\u001b[0;31m    number = 0101\u001b[0m\n\u001b[0m                ^\u001b[0m\n\u001b[0;31mSyntaxError\u001b[0m\u001b[0;31m:\u001b[0m leading zeros in decimal integer literals are not permitted; use an 0o prefix for octal integers\n"
     ]
    }
   ],
   "source": [
    "number = 0101\n",
    "print(number)"
   ]
  },
  {
   "cell_type": "code",
   "execution_count": 61,
   "id": "4dec4ad8",
   "metadata": {},
   "outputs": [
    {
     "name": "stdout",
     "output_type": "stream",
     "text": [
      "0\n",
      "1.0\n",
      "False\n",
      "True\n",
      "True\n",
      "True\n",
      "(10+2j)\n",
      "0xb\n",
      "0.9090909090909091\n"
     ]
    }
   ],
   "source": [
    "print(int(False))\n",
    "print(float(True))\n",
    "print(bool(.0))\n",
    "print(bool(3))\n",
    "print(bool(\"a\"))\n",
    "print(bool(\" \"))\n",
    "\n",
    "#A complex number is a number of the form a + bi, \n",
    "# where a and b are real numbers, and i is an \n",
    "# indeterminate satisfying i^2 = −1\n",
    "print(complex(10,2))\n",
    "\n",
    "print(hex(11))\n",
    "x = 10 \n",
    "y = 11\n",
    "result = (x - False)/(y * True)\n",
    "print(result)"
   ]
  },
  {
   "cell_type": "code",
   "execution_count": 110,
   "id": "3e8c9155",
   "metadata": {},
   "outputs": [
    {
     "name": "stdout",
     "output_type": "stream",
     "text": [
      "1000000000\n",
      "11235813\n"
     ]
    }
   ],
   "source": [
    "print(1_000_000_000)\n",
    "print(1_1235_813)"
   ]
  },
  {
   "cell_type": "code",
   "execution_count": 99,
   "id": "47358e9b",
   "metadata": {},
   "outputs": [
    {
     "name": "stdout",
     "output_type": "stream",
     "text": [
      "21/05/1981\n"
     ]
    }
   ],
   "source": [
    "print(\"21\",\"05\",\"1981\", sep=\"/\")"
   ]
  },
  {
   "cell_type": "code",
   "execution_count": 100,
   "id": "27f700b5",
   "metadata": {},
   "outputs": [
    {
     "name": "stdout",
     "output_type": "stream",
     "text": [
      "name@domain.com\n"
     ]
    }
   ],
   "source": [
    "print(\"name\",\"domain.com\", sep=\"@\")"
   ]
  },
  {
   "cell_type": "markdown",
   "id": "4cd35bdc",
   "metadata": {},
   "source": [
    "## loops"
   ]
  },
  {
   "cell_type": "code",
   "execution_count": 229,
   "id": "a62f105f",
   "metadata": {},
   "outputs": [
    {
     "name": "stdout",
     "output_type": "stream",
     "text": [
      "2\n"
     ]
    }
   ],
   "source": [
    "#\"Else\" condition inside a \"for\" loop\n",
    "numbers = [1,1,2,3,5,8]\n",
    "for number in numbers:\n",
    "    if number % 2 == 0:\n",
    "        print(number)\n",
    "        break\n",
    "else:\n",
    "\n",
    "    print(\"# !odd\")"
   ]
  },
  {
   "cell_type": "code",
   "execution_count": 91,
   "id": "92eba0f0",
   "metadata": {},
   "outputs": [
    {
     "name": "stdout",
     "output_type": "stream",
     "text": [
      "1 4 7 "
     ]
    }
   ],
   "source": [
    "for number in range(1,10,3):\n",
    "    print(number,end=\" \")"
   ]
  },
  {
   "cell_type": "code",
   "execution_count": 97,
   "id": "96af0058",
   "metadata": {},
   "outputs": [
    {
     "name": "stdout",
     "output_type": "stream",
     "text": [
      "0 1 2 \n",
      "----\n",
      "1 2 3 "
     ]
    }
   ],
   "source": [
    "def range_with_zero(number):\n",
    "    for i in range(0,number):\n",
    "        print(i, end=\" \")\n",
    "    \n",
    "def range_with_no_zero(number):\n",
    "    for i in range(1,number):\n",
    "        print(i, end=\" \")\n",
    "        \n",
    "range_with_zero(3)\n",
    "print(\"\\n----\")\n",
    "range_with_no_zero(4)"
   ]
  },
  {
   "cell_type": "markdown",
   "id": "6dd87826",
   "metadata": {},
   "source": [
    "## Conditions"
   ]
  },
  {
   "cell_type": "code",
   "execution_count": 33,
   "id": "8b6d7d93",
   "metadata": {},
   "outputs": [
    {
     "name": "stdout",
     "output_type": "stream",
     "text": [
      "positive\n",
      "Zero\n",
      "negative\n"
     ]
    }
   ],
   "source": [
    "#if-elif block can exist without else\n",
    "def check_number(number):\n",
    "    if number > 0:\n",
    "        return \"positive\"\n",
    "    elif number == 0:\n",
    "        return \"Zero\"\n",
    "    return \"negative\n",
    "\n",
    "print(check_number(2))\n",
    "print(check_number(0))\n",
    "print(check_number(-2))"
   ]
  },
  {
   "cell_type": "code",
   "execution_count": 234,
   "id": "4ad0013b",
   "metadata": {},
   "outputs": [
    {
     "name": "stdout",
     "output_type": "stream",
     "text": [
      "Sorry one o more conditions fails\n",
      "Congratulations\n"
     ]
    }
   ],
   "source": [
    "n1 = 1\n",
    "n2 = 2 \n",
    "n3 = 3\n",
    "n4 = 4\n",
    "my_conditions = [n1 > 0, n2 , n3 > n2 , n4 < 2]\n",
    "if all(my_conditions):\n",
    "    print(\"Congratulations\")\n",
    "else:\n",
    "    print(\"Sorry one o more conditions fails\")\n",
    "\n",
    "if any(my_conditions):\n",
    "    print(\"Congratulations\")\n",
    "else:\n",
    "    print(\"Sorry one o more conditions fails\")"
   ]
  },
  {
   "cell_type": "markdown",
   "id": "ced1396b",
   "metadata": {},
   "source": [
    "##  List "
   ]
  },
  {
   "cell_type": "code",
   "execution_count": 91,
   "id": "6c4704de",
   "metadata": {},
   "outputs": [
    {
     "name": "stdout",
     "output_type": "stream",
     "text": [
      "<class 'str'>\n",
      "<class 'list'>\n",
      "<class 'list'>\n",
      "[[1, 2, 3, 4], [1, 2, 3]]\n",
      "<class 'list'>\n"
     ]
    }
   ],
   "source": [
    "# convert a string into a list of strings\n",
    "list_input = \"[1,1,2,3]\"\n",
    "print(type(list_input))\n",
    "list_input = [1,2,3]\n",
    "print(type(list_input))\n",
    "list_input = [[1,2,3,4],[1,2,3]]\n",
    "print(type(list_input))\n",
    "\n",
    "import ast\n",
    "def string_to_list(string):\n",
    "    return ast.literal_eval(string)\n",
    "\n",
    "list_input = \"[[1,2,3,4],[1,2,3]]\"\n",
    "my_input_list = string_to_list(list_input)\n",
    "print(my_input_list)\n",
    "print(type(my_input_list))"
   ]
  },
  {
   "cell_type": "code",
   "execution_count": 212,
   "id": "e5c80582",
   "metadata": {
    "scrolled": true
   },
   "outputs": [
    {
     "name": "stdout",
     "output_type": "stream",
     "text": [
      "3\n",
      "[2, 3, 5, 8]\n",
      "[5, 8]\n",
      "[2, 3]\n",
      "[1, 1, 2, 3]\n",
      "[1, 1]\n",
      "[]\n"
     ]
    }
   ],
   "source": [
    "# Get elements from a list using named variables\n",
    "my_list = [1,1,2,3,5,8]\n",
    "one, two, three, four, five,six = my_list\n",
    "print(four)\n",
    "#slice(start,stop,step) get the last n elements\n",
    "slicing = slice(-4, None)\n",
    "print(my_list[slicing])\n",
    "slicing = slice(4,None)\n",
    "print(my_list[slicing])\n",
    "slicing = slice(2, 4)\n",
    "print(my_list[slicing])\n",
    "slicing = slice(-2)\n",
    "print(my_list[slicing])\n",
    "slicing = slice(2)\n",
    "print(my_list[slicing])\n",
    "#clean\n",
    "my_list.clear()\n",
    "print(my_list)"
   ]
  },
  {
   "cell_type": "code",
   "execution_count": 32,
   "id": "dff12fdf",
   "metadata": {
    "scrolled": true
   },
   "outputs": [
    {
     "name": "stdout",
     "output_type": "stream",
     "text": [
      "[7854, 523, 312]\n",
      "[3, 8, 33, 41]\n"
     ]
    }
   ],
   "source": [
    "# Get n largest or n smallest elements in a list usin the module \"heapq\"\n",
    "import heapq\n",
    "scores = [51,33,41,523,63,7854,8,3,312]\n",
    "print(heapq.nlargest(3, scores))\n",
    "print(heapq.nsmallest(4,scores))"
   ]
  },
  {
   "cell_type": "code",
   "execution_count": 310,
   "id": "41b77e84",
   "metadata": {},
   "outputs": [
    {
     "name": "stdout",
     "output_type": "stream",
     "text": [
      "[1, 1, 2, 3, 5, 8, 13, 3]\n",
      "1 1 2 3 5 8 13 3\n",
      "['a', 'b', 'c', 'd']\n",
      "a b c d\n"
     ]
    }
   ],
   "source": [
    "# Pass values from a list as method arguments\n",
    "my_char_list = ['a','b','c','d']\n",
    "my_list = [1,1,2,3,5,8,13,3]\n",
    "print(my_list)\n",
    "print(*my_list)\n",
    "print(my_char_list)\n",
    "print(*my_char_list)"
   ]
  },
  {
   "cell_type": "code",
   "execution_count": 311,
   "id": "3a3b8028",
   "metadata": {},
   "outputs": [
    {
     "name": "stdout",
     "output_type": "stream",
     "text": [
      "[3, 13, 8, 5, 3, 2, 1, 1]\n"
     ]
    }
   ],
   "source": [
    "my_list.reverse()\n",
    "print(my_list)"
   ]
  },
  {
   "cell_type": "code",
   "execution_count": 316,
   "id": "bf368233",
   "metadata": {},
   "outputs": [
    {
     "name": "stdout",
     "output_type": "stream",
     "text": [
      "{1, 2, 3, 5, 8, 13}\n"
     ]
    }
   ],
   "source": [
    "#remove duplicates\n",
    "print(set(my_list))"
   ]
  },
  {
   "cell_type": "code",
   "execution_count": 319,
   "id": "94b570c8",
   "metadata": {},
   "outputs": [
    {
     "name": "stdout",
     "output_type": "stream",
     "text": [
      "0  is not in my list\n",
      "1  is in my list\n",
      "2  is in my list\n",
      "3  is in my list\n",
      "4  is not in my list\n",
      "5  is in my list\n",
      "6  is not in my list\n",
      "7  is not in my list\n",
      "8  is in my list\n"
     ]
    }
   ],
   "source": [
    "##check \"in\" and \"not in\"\n",
    "for i in range(9):\n",
    "    if i not in my_list:\n",
    "        print(i,\" is not in my list\")\n",
    "    if i in my_list:\n",
    "        print(i,\" is in my list\")"
   ]
  },
  {
   "cell_type": "code",
   "execution_count": 72,
   "id": "b6674659",
   "metadata": {},
   "outputs": [
    {
     "name": "stdout",
     "output_type": "stream",
     "text": [
      "[1, 1, 2, 3, 5, 8, 13, 'e']\n",
      "['a', 'b', 'c', 'd', 'pk']\n",
      "['-', 1, 1, 2, 3, 5, 8, 13, 'e']\n"
     ]
    }
   ],
   "source": [
    "my_list.append(\"e\")\n",
    "print(my_list)\n",
    "my_char_list.append(\"pk\")\n",
    "print(my_char_list)\n",
    "## add a value in the first position\n",
    "my_list.insert(0,\"-\")\n",
    "print(my_list)"
   ]
  },
  {
   "cell_type": "code",
   "execution_count": 36,
   "id": "746f8331",
   "metadata": {},
   "outputs": [
    {
     "name": "stdout",
     "output_type": "stream",
     "text": [
      "[1, 2, 3, 5, 8]\n"
     ]
    }
   ],
   "source": [
    "# get all the elements in the middle of the list\n",
    "_,*my_list_middle_elements,_ = my_list\n",
    "print(my_list_middle_elements)"
   ]
  },
  {
   "cell_type": "code",
   "execution_count": 38,
   "id": "a1e676b9",
   "metadata": {},
   "outputs": [
    {
     "name": "stdout",
     "output_type": "stream",
     "text": [
      "33\n"
     ]
    }
   ],
   "source": [
    "# Pass values from a list as method arguments\n",
    "def sum_of_elements(*arg):\n",
    "    total = 0\n",
    "    for i in arg:\n",
    "        total += i\n",
    "    return total\n",
    "\n",
    "result = sum_of_elements(*my_list)\n",
    "print(result)"
   ]
  },
  {
   "cell_type": "code",
   "execution_count": 40,
   "id": "920cb7ae",
   "metadata": {},
   "outputs": [
    {
     "name": "stdout",
     "output_type": "stream",
     "text": [
      "2\n"
     ]
    }
   ],
   "source": [
    "# assign multiple variables in just one line\n",
    "one, two, three, four = 1,1,2,3\n",
    "print(three)"
   ]
  },
  {
   "cell_type": "code",
   "execution_count": 182,
   "id": "b8ed2ecf",
   "metadata": {},
   "outputs": [
    {
     "name": "stdout",
     "output_type": "stream",
     "text": [
      "[2]\n"
     ]
    },
    {
     "data": {
      "text/plain": [
       "list"
      ]
     },
     "execution_count": 182,
     "metadata": {},
     "output_type": "execute_result"
    }
   ],
   "source": [
    "# list comprehensions\n",
    "even_numbers = [number for number in my_list if number % 2 == 0]\n",
    "print(even_numbers)\n",
    "type(even_numbers)"
   ]
  },
  {
   "cell_type": "code",
   "execution_count": 320,
   "id": "45b4ce38",
   "metadata": {},
   "outputs": [
    {
     "name": "stdout",
     "output_type": "stream",
     "text": [
      "2\n",
      "si\n",
      "si\n"
     ]
    }
   ],
   "source": [
    "#count the number of times an element appears\n",
    "names = [\"Besim\",\"Albert\",\"Besim\",\"Fisnik\",\"Jack\"]\n",
    "print(names.count(\"Besim\"))\n",
    "\n",
    "from itertools import count\n",
    "\n",
    "current_counter = count()\n",
    "for i in names:\n",
    "    if len(i) > 5:\n",
    "        print(\"si\")"
   ]
  },
  {
   "cell_type": "code",
   "execution_count": 321,
   "id": "3b9a2202",
   "metadata": {},
   "outputs": [
    {
     "name": "stdout",
     "output_type": "stream",
     "text": [
      "['Albert', 'Besim', 'Besim', 'Fisnik', 'Jack']\n",
      "['Besim', 'Albert', 'Besim', 'Fisnik', 'Jack']\n",
      "['Albert', 'Besim', 'Besim', 'Fisnik', 'Jack']\n"
     ]
    }
   ],
   "source": [
    "#sort and sorted\n",
    "#sort() sorts the original list\n",
    "#sorted() returns a new sorted list\n",
    "names = [\"Besim\",\"Albert\",\"Besim\",\"Fisnik\",\"Jack\"]\n",
    "new_names = sorted(names)\n",
    "print(new_names)\n",
    "print(names)\n",
    "names.sort()\n",
    "print(names)"
   ]
  },
  {
   "cell_type": "markdown",
   "id": "62683236",
   "metadata": {},
   "source": [
    "## Dictionaries"
   ]
  },
  {
   "cell_type": "code",
   "execution_count": 214,
   "id": "8cd574f8",
   "metadata": {},
   "outputs": [
    {
     "name": "stdout",
     "output_type": "stream",
     "text": [
      "{'first': 1, 'third': 3}\n"
     ]
    }
   ],
   "source": [
    "# dictionary comprehensions \n",
    "my_dictionary = {'first':1,'second':2,'third':3,'fourth':4}\n",
    "odd_numbers = {key: num for(key,num) in my_dictionary.items() if num % 2 == 1}\n",
    "print(odd_numbers)"
   ]
  },
  {
   "cell_type": "code",
   "execution_count": 215,
   "id": "7098d7c9",
   "metadata": {},
   "outputs": [
    {
     "name": "stdout",
     "output_type": "stream",
     "text": [
      "{'first': 1, 'second': 2, 'third': 3, 'fourth': 4, 'primero': 10, 'segundo': 12, 'tercero': 13}\n"
     ]
    }
   ],
   "source": [
    "my_second_dictionary = {'primero':10,'segundo':12,'tercero':13}\n",
    "result = my_dictionary | my_second_dictionary\n",
    "print(result)"
   ]
  },
  {
   "cell_type": "code",
   "execution_count": 216,
   "id": "24bb6ed6",
   "metadata": {},
   "outputs": [
    {
     "name": "stdout",
     "output_type": "stream",
     "text": [
      "{'first': 1, 'second': 2, 'third': 3, 'fourth': 4, 'primero': 10, 'segundo': 12, 'tercero': 13}\n"
     ]
    }
   ],
   "source": [
    "merged = {**my_dictionary, **my_second_dictionary}\n",
    "print(merged)"
   ]
  },
  {
   "cell_type": "code",
   "execution_count": 219,
   "id": "02f0986a",
   "metadata": {},
   "outputs": [
    {
     "name": "stdout",
     "output_type": "stream",
     "text": [
      "{}\n"
     ]
    }
   ],
   "source": [
    "merged.clear()\n",
    "print(merged)"
   ]
  },
  {
   "cell_type": "code",
   "execution_count": 225,
   "id": "332d9686",
   "metadata": {},
   "outputs": [
    {
     "name": "stdout",
     "output_type": "stream",
     "text": [
      "{1, 2, 3, 4, 5, 6, 7}\n",
      "{1, 2, 3, 4, 5, 6, 7}\n"
     ]
    }
   ],
   "source": [
    "first_set = {4,5,6,7}\n",
    "second_set = {1,2,3}\n",
    "print(first_set.union(second_set))\n",
    "first_set.update(second_set)\n",
    "print(first_set)"
   ]
  },
  {
   "cell_type": "markdown",
   "id": "21c1f42b",
   "metadata": {},
   "source": [
    "## Tuples"
   ]
  },
  {
   "cell_type": "code",
   "execution_count": 174,
   "id": "4a998689",
   "metadata": {},
   "outputs": [
    {
     "name": "stdout",
     "output_type": "stream",
     "text": [
      "1\n"
     ]
    }
   ],
   "source": [
    "books = ('Divine Comedy','Dune','Art of War','Alan poe')\n",
    "print(books.index('Dune'))"
   ]
  },
  {
   "cell_type": "code",
   "execution_count": 210,
   "id": "6a4dce70",
   "metadata": {},
   "outputs": [
    {
     "name": "stdout",
     "output_type": "stream",
     "text": [
      "13\n",
      "3\n",
      "2\n",
      "3\n",
      "(1, 2, 5, 13)\n",
      "(2, 5)\n"
     ]
    }
   ],
   "source": [
    "numbers = (1,1,2,3,5,8,13)\n",
    "print(numbers[-1])\n",
    "print(numbers[-4])\n",
    "print(numbers.count(1))\n",
    "print(numbers.index(3))\n",
    "print(numbers[::2])\n",
    "print(numbers[2:5:2])"
   ]
  },
  {
   "cell_type": "code",
   "execution_count": 181,
   "id": "6129c473",
   "metadata": {},
   "outputs": [
    {
     "name": "stdout",
     "output_type": "stream",
     "text": [
      "['first', 'second', 'third']\n",
      "('aaaaaaaaaa', 3, 4)\n"
     ]
    }
   ],
   "source": [
    "#nest a list and a tuble inside a tuple\n",
    "mixed_tuple = ((\"a\" * 10, 3, 4), ['first','second','third'])\n",
    "print(mixed_tuple[1])\n",
    "print(mixed_tuple[0])"
   ]
  },
  {
   "cell_type": "markdown",
   "id": "0d758545",
   "metadata": {},
   "source": [
    "## Enum´s"
   ]
  },
  {
   "cell_type": "code",
   "execution_count": 157,
   "id": "f9ed569b",
   "metadata": {},
   "outputs": [
    {
     "name": "stdout",
     "output_type": "stream",
     "text": [
      "IN_PROGRESS\n",
      "1\n"
     ]
    }
   ],
   "source": [
    "from enum import Enum\n",
    "\n",
    "class Status(Enum):\n",
    "    NO_STATUS = -1\n",
    "    NOT_STARTED = 0\n",
    "    IN_PROGRESS = 1\n",
    "    COMPLETED = 2\n",
    "\n",
    "print(Status.IN_PROGRESS.name)\n",
    "print(Status.IN_PROGRESS.value)"
   ]
  },
  {
   "cell_type": "markdown",
   "id": "25879678",
   "metadata": {},
   "source": [
    "## print\n"
   ]
  },
  {
   "cell_type": "code",
   "execution_count": 226,
   "id": "3029b78c",
   "metadata": {},
   "outputs": [
    {
     "name": "stdout",
     "output_type": "stream",
     "text": [
      "tHIS IS A MESSAGE \n",
      "False\n",
      "False\n",
      "This is a messag\n",
      "True\n",
      "True\n",
      "False\n",
      "True\n"
     ]
    }
   ],
   "source": [
    "string = \"This is a message \"\n",
    "result = string.swapcase()\n",
    "print(result)\n",
    "print(string.isspace())\n",
    "print(string.isalnum())\n",
    "print(string.rstrip(\"e \"))\n",
    "string = \"This\"\n",
    "print(string.isalpha())\n",
    "string = \"1123\"\n",
    "print(string.isalnum())\n",
    "print(string.isalpha())\n",
    "print(string.isdigit())\n"
   ]
  },
  {
   "cell_type": "code",
   "execution_count": 228,
   "id": "4993d6e3",
   "metadata": {},
   "outputs": [
    {
     "name": "stdout",
     "output_type": "stream",
     "text": [
      "Negative\n"
     ]
    }
   ],
   "source": [
    "#conditions inside the print function\n",
    "number = -4\n",
    "print(\"Positivo\" if number > 0 else \"Negative\")"
   ]
  },
  {
   "cell_type": "markdown",
   "id": "da2b583a",
   "metadata": {},
   "source": [
    "#  validations"
   ]
  },
  {
   "cell_type": "code",
   "execution_count": 130,
   "id": "f25b35c7",
   "metadata": {},
   "outputs": [],
   "source": [
    "first_list = [1,2,3]\n",
    "second_list = [1,2,3]"
   ]
  },
  {
   "cell_type": "code",
   "execution_count": 131,
   "id": "ae34a390",
   "metadata": {},
   "outputs": [
    {
     "name": "stdout",
     "output_type": "stream",
     "text": [
      "True\n"
     ]
    }
   ],
   "source": [
    "print(first_list == second_list)"
   ]
  },
  {
   "cell_type": "code",
   "execution_count": 132,
   "id": "a4f8944b",
   "metadata": {},
   "outputs": [
    {
     "name": "stdout",
     "output_type": "stream",
     "text": [
      "False\n"
     ]
    }
   ],
   "source": [
    "print(first_list is second_list)"
   ]
  },
  {
   "cell_type": "code",
   "execution_count": 133,
   "id": "770c2841",
   "metadata": {},
   "outputs": [
    {
     "name": "stdout",
     "output_type": "stream",
     "text": [
      "True\n"
     ]
    }
   ],
   "source": [
    "third_list = first_list\n",
    "print(third_list is first_list)"
   ]
  },
  {
   "cell_type": "markdown",
   "id": "d05c7c8a",
   "metadata": {},
   "source": [
    "<img src=\"PyObjectName.png\">"
   ]
  },
  {
   "cell_type": "markdown",
   "id": "dd52c1a8",
   "metadata": {},
   "source": [
    "### LAMBDA"
   ]
  },
  {
   "cell_type": "code",
   "execution_count": 83,
   "id": "c464d45c",
   "metadata": {},
   "outputs": [
    {
     "name": "stdout",
     "output_type": "stream",
     "text": [
      "<\n"
     ]
    }
   ],
   "source": [
    "compare = lambda x: print(\"algo \") if x > 3 else print(\"<\")\n",
    "compare(-4)"
   ]
  },
  {
   "cell_type": "code",
   "execution_count": 84,
   "id": "b3b9e090",
   "metadata": {},
   "outputs": [
    {
     "name": "stdout",
     "output_type": "stream",
     "text": [
      "[1, 3]\n",
      "[1, 2, 3, 4]\n"
     ]
    }
   ],
   "source": [
    "#return a new object, filter\n",
    "my_list = [1,2,3,4]\n",
    "odd = filter(lambda x:x % 2 == 1, my_list)\n",
    "print(list(odd))\n",
    "print(my_list)\n"
   ]
  },
  {
   "cell_type": "code",
   "execution_count": 87,
   "id": "b6625212",
   "metadata": {},
   "outputs": [
    {
     "name": "stdout",
     "output_type": "stream",
     "text": [
      "[1, 4, 9, 16]\n",
      "[1, 2, 3, 4]\n"
     ]
    }
   ],
   "source": [
    "#return a new object, map\n",
    "my_list = [1,2,3,4]\n",
    "squared = map(lambda x:x ** 2, my_list)\n",
    "print(list(squared))\n",
    "print(my_list)"
   ]
  },
  {
   "cell_type": "markdown",
   "id": "fb0ced9f",
   "metadata": {},
   "source": [
    "## Methods"
   ]
  },
  {
   "cell_type": "code",
   "execution_count": 124,
   "id": "63b06cbf",
   "metadata": {},
   "outputs": [
    {
     "name": "stdout",
     "output_type": "stream",
     "text": [
      "Second\n"
     ]
    }
   ],
   "source": [
    "#multiple declarations\n",
    "def get_address():\n",
    "    print(\"First\")\n",
    "\n",
    "def get_address():\n",
    "    print(\"Second\")\n",
    "\n",
    "get_address()"
   ]
  },
  {
   "cell_type": "code",
   "execution_count": 138,
   "id": "22c089b2",
   "metadata": {},
   "outputs": [
    {
     "name": "stdout",
     "output_type": "stream",
     "text": [
      "1 2 3 = 6\n",
      "1 1 2 3 5 8 = 20\n",
      "1 2 a = 100\n"
     ]
    }
   ],
   "source": [
    "def get_sum(*arguments):\n",
    "    result = 0\n",
    "    for i in arguments:\n",
    "        print(i,end=\" \")\n",
    "        if type(i) != str:\n",
    "            result += i\n",
    "        else:\n",
    "            result += ord(i)\n",
    "    print(\"=\",end=\" \")\n",
    "    return result\n",
    "\n",
    "print(get_sum(1,2,3))\n",
    "print(get_sum(1,1,2,3,5,8))\n",
    "print(get_sum(1,2,'a'))"
   ]
  },
  {
   "cell_type": "markdown",
   "id": "3d988e7f",
   "metadata": {},
   "source": [
    "# class"
   ]
  },
  {
   "cell_type": "code",
   "execution_count": 117,
   "id": "fc2bf408",
   "metadata": {},
   "outputs": [
    {
     "name": "stdout",
     "output_type": "stream",
     "text": [
      "Dain\n",
      "62000\n"
     ]
    },
    {
     "ename": "AttributeError",
     "evalue": "'Engineer' object has no attribute '__starting_salary'",
     "output_type": "error",
     "traceback": [
      "\u001b[0;31m---------------------------------------------------------------------------\u001b[0m",
      "\u001b[0;31mAttributeError\u001b[0m                            Traceback (most recent call last)",
      "\u001b[0;32m/tmp/ipykernel_14351/4074137544.py\u001b[0m in \u001b[0;36m<module>\u001b[0;34m\u001b[0m\n\u001b[1;32m      7\u001b[0m \u001b[0mprint\u001b[0m\u001b[0;34m(\u001b[0m\u001b[0mdain\u001b[0m\u001b[0;34m.\u001b[0m\u001b[0mname\u001b[0m\u001b[0;34m)\u001b[0m\u001b[0;34m\u001b[0m\u001b[0;34m\u001b[0m\u001b[0m\n\u001b[1;32m      8\u001b[0m \u001b[0mprint\u001b[0m\u001b[0;34m(\u001b[0m\u001b[0mdain\u001b[0m\u001b[0;34m.\u001b[0m\u001b[0m_Engineer__starting_salary\u001b[0m\u001b[0;34m)\u001b[0m\u001b[0;34m\u001b[0m\u001b[0;34m\u001b[0m\u001b[0m\n\u001b[0;32m----> 9\u001b[0;31m \u001b[0mprint\u001b[0m\u001b[0;34m(\u001b[0m\u001b[0mdain\u001b[0m\u001b[0;34m.\u001b[0m\u001b[0m__starting_salary\u001b[0m\u001b[0;34m)\u001b[0m\u001b[0;34m\u001b[0m\u001b[0;34m\u001b[0m\u001b[0m\n\u001b[0m",
      "\u001b[0;31mAttributeError\u001b[0m: 'Engineer' object has no attribute '__starting_salary'"
     ]
    }
   ],
   "source": [
    "class Engineer:\n",
    "    def __init__(self, name):\n",
    "        self.name = name\n",
    "        self.__starting_salary = 62000\n",
    "        \n",
    "dain = Engineer('Dain')\n",
    "print(dain.name)\n",
    "print(dain._Engineer__starting_salary)\n",
    "print(dain.__starting_salary)"
   ]
  },
  {
   "cell_type": "code",
   "execution_count": 123,
   "id": "3b90f41b",
   "metadata": {},
   "outputs": [
    {
     "name": "stdout",
     "output_type": "stream",
     "text": [
      "56\n",
      "57\n",
      "28\n",
      "28\n"
     ]
    }
   ],
   "source": [
    "#check the memory usage of an object\n",
    "import sys\n",
    "\n",
    "print(sys.getsizeof(\"bitcoin\"))\n",
    "print(sys.getsizeof(\"ethereum\"))\n",
    "print(sys.getsizeof(1))\n",
    "print(sys.getsizeof(2))"
   ]
  },
  {
   "cell_type": "code",
   "execution_count": 140,
   "id": "af46b19c",
   "metadata": {},
   "outputs": [
    {
     "name": "stdout",
     "output_type": "stream",
     "text": [
      "UABC\n"
     ]
    }
   ],
   "source": [
    "#call the parent class´s initializer usin super() or parent class´s name\n",
    "class Parent:\n",
    "    def __init__(self, city, address):\n",
    "        self.city = city\n",
    "        self.address = address\n",
    "        \n",
    "class Child(Parent):\n",
    "    def __init__(self, city, address, university):\n",
    "        super().__init__(city, address)\n",
    "        self.university = university\n",
    "        \n",
    "child = Child('Ensenada','Reforma 1123','UABC')\n",
    "print(child.university)"
   ]
  },
  {
   "cell_type": "code",
   "execution_count": 152,
   "id": "7420b994",
   "metadata": {},
   "outputs": [
    {
     "name": "stdout",
     "output_type": "stream",
     "text": [
      "True\n",
      "2500\n",
      "350\n",
      "Expenses --> 1000 - 200\n"
     ]
    }
   ],
   "source": [
    "class Expenses:\n",
    "    def __init__(self, rent, groceries):\n",
    "        self.rent = rent\n",
    "        self.groceries = groceries\n",
    "        \n",
    "    def __add__(self, other):\n",
    "        return Expenses(self.rent + other.rent, self.groceries + other.groceries)\n",
    "    \n",
    "    def __lt__(self, other):\n",
    "        return (self.rent + self.groceries) < (self.groceries + other.rent)\n",
    "\n",
    "    def __repr__(self):\n",
    "        return(\"Expenses --> \" + str(self.rent) +\" - \" + str(self.groceries))\n",
    "\"\"\"\n",
    "__eq__       =\n",
    "__mul__      *\n",
    "__sub__      -\n",
    "__truediv__  /\n",
    "__ne__       !=\n",
    "__ge__       >=\n",
    "__gt__       >\n",
    "\n",
    "\"\"\"\n",
    "april_expenses =  Expenses(1000, 200)\n",
    "may_expenses = Expenses(1500, 150)\n",
    "print(april_expenses < may_expenses)\n",
    "total_expenses = april_expenses + may_expenses\n",
    "\n",
    "print(total_expenses.rent)\n",
    "\n",
    "print(total_expenses.groceries)\n",
    "\n",
    "print(april_expenses)"
   ]
  },
  {
   "cell_type": "markdown",
   "id": "4982c60e",
   "metadata": {},
   "source": [
    "##EXTRA"
   ]
  },
  {
   "cell_type": "code",
   "execution_count": 293,
   "id": "7f697a90",
   "metadata": {},
   "outputs": [
    {
     "name": "stdout",
     "output_type": "stream",
     "text": [
      "[[1, 2, 831], ['a', 'b', 'c']]\n",
      "[[1, 2, 831], ['a', 'b', 'c']]\n"
     ]
    }
   ],
   "source": [
    "#copy() and deepcopy\n",
    "#copy\n",
    "first_list = [[1,2,3],['a','b','c']]\n",
    "second_list = first_list.copy()\n",
    "first_list[0][2] = 831\n",
    "print(first_list)\n",
    "print(second_list)\n"
   ]
  },
  {
   "cell_type": "code",
   "execution_count": 314,
   "id": "df030c82",
   "metadata": {},
   "outputs": [
    {
     "name": "stdout",
     "output_type": "stream",
     "text": [
      "[[1, 2, 831], ['a', 'b', 'c']]\n",
      "[[1, 2, 3], ['a', 'b', 'c']]\n",
      "[[1, 2, 831], ['a', 'b', 'c']]\n"
     ]
    }
   ],
   "source": [
    "#deepcopy\n",
    "import copy\n",
    "first_list = [[1,2,3],['a','b','c']]\n",
    "second_list = copy.deepcopy(first_list)\n",
    "third_list = first_list #copy()\n",
    "first_list[0][2] = 831\n",
    "print(first_list)\n",
    "print(second_list)\n",
    "print(third_list)"
   ]
  },
  {
   "cell_type": "code",
   "execution_count": 315,
   "id": "a1aeaee6",
   "metadata": {},
   "outputs": [
    {
     "name": "stdout",
     "output_type": "stream",
     "text": [
      "<module 'copy' from '/home/pako/anaconda3/lib/python3.9/copy.py'>\n"
     ]
    }
   ],
   "source": [
    "#print the place where a module is located\n",
    "print(copy)"
   ]
  },
  {
   "cell_type": "markdown",
   "id": "be482965",
   "metadata": {},
   "source": [
    "## Dictionary"
   ]
  },
  {
   "cell_type": "code",
   "execution_count": 300,
   "id": "6e33404d",
   "metadata": {},
   "outputs": [
    {
     "ename": "KeyError",
     "evalue": "'date'",
     "output_type": "error",
     "traceback": [
      "\u001b[0;31m---------------------------------------------------------------------------\u001b[0m",
      "\u001b[0;31mKeyError\u001b[0m                                  Traceback (most recent call last)",
      "\u001b[0;32m/tmp/ipykernel_14351/1053316282.py\u001b[0m in \u001b[0;36m<module>\u001b[0;34m\u001b[0m\n\u001b[1;32m      1\u001b[0m \u001b[0mmy_dictionay\u001b[0m \u001b[0;34m=\u001b[0m \u001b[0;34m{\u001b[0m\u001b[0;34m\"name\"\u001b[0m\u001b[0;34m:\u001b[0m\u001b[0;34m\"Name\"\u001b[0m\u001b[0;34m,\u001b[0m\u001b[0;34m\"age\"\u001b[0m\u001b[0;34m:\u001b[0m\u001b[0;34m\"Age\"\u001b[0m\u001b[0;34m}\u001b[0m\u001b[0;34m\u001b[0m\u001b[0;34m\u001b[0m\u001b[0m\n\u001b[0;32m----> 2\u001b[0;31m \u001b[0mprint\u001b[0m\u001b[0;34m(\u001b[0m\u001b[0mmy_dictionary\u001b[0m\u001b[0;34m[\u001b[0m\u001b[0;34m\"date\"\u001b[0m\u001b[0;34m]\u001b[0m\u001b[0;34m)\u001b[0m\u001b[0;34m\u001b[0m\u001b[0;34m\u001b[0m\u001b[0m\n\u001b[0m",
      "\u001b[0;31mKeyError\u001b[0m: 'date'"
     ]
    }
   ],
   "source": [
    "my_dictionay = {\"name\":\"Name\",\"age\":\"Age\"}\n",
    "print(my_dictionary[\"date\"])"
   ]
  },
  {
   "cell_type": "code",
   "execution_count": 303,
   "id": "249e751b",
   "metadata": {},
   "outputs": [
    {
     "name": "stdout",
     "output_type": "stream",
     "text": [
      "Name\n",
      "\n"
     ]
    }
   ],
   "source": [
    "from collections import defaultdict\n",
    "default_dictionay = defaultdict(str)\n",
    "default_dictionay[\"name\"] = \"Name\"\n",
    "default_dictionay[\"age\"] = \"Age\"\n",
    "print(default_dictionay[\"name\"])\n",
    "print(default_dictionay[\"date\"])\n"
   ]
  },
  {
   "cell_type": "markdown",
   "id": "59d23437",
   "metadata": {},
   "source": [
    "## build your own iterator"
   ]
  },
  {
   "cell_type": "code",
   "execution_count": 322,
   "id": "9c8462cd",
   "metadata": {},
   "outputs": [
    {
     "name": "stdout",
     "output_type": "stream",
     "text": [
      "1\n",
      "3\n",
      "5\n"
     ]
    }
   ],
   "source": [
    "class OddNumbers:\n",
    "    def __iter__(self):\n",
    "        self.a = 1\n",
    "        return self\n",
    "    \n",
    "    def __next__(self):\n",
    "        x = self.a\n",
    "        self.a += 2\n",
    "        return x\n",
    "    \n",
    "odd_numbers_object = OddNumbers()\n",
    "iterator = iter(odd_numbers_object)\n",
    "print(next(iterator))\n",
    "print(next(iterator))\n",
    "print(next(iterator))"
   ]
  },
  {
   "cell_type": "code",
   "execution_count": 326,
   "id": "91c4896d",
   "metadata": {},
   "outputs": [
    {
     "name": "stdout",
     "output_type": "stream",
     "text": [
      "96b1235a-d7c7-11ec-963f-e86a64069fdf\n",
      "5699b8fa-61e8-4762-b7ec-f272b16a1df8\n"
     ]
    }
   ],
   "source": [
    "import uuid\n",
    "print(uuid.uuid1())\n",
    "print(uuid.uuid4())"
   ]
  }
 ],
 "metadata": {
  "kernelspec": {
   "display_name": "Python 3 (ipykernel)",
   "language": "python",
   "name": "python3"
  },
  "language_info": {
   "codemirror_mode": {
    "name": "ipython",
    "version": 3
   },
   "file_extension": ".py",
   "mimetype": "text/x-python",
   "name": "python",
   "nbconvert_exporter": "python",
   "pygments_lexer": "ipython3",
   "version": "3.10.12"
  }
 },
 "nbformat": 4,
 "nbformat_minor": 5
}
