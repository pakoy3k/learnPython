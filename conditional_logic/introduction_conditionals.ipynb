{
  "cells": [
    {
      "cell_type": "markdown",
      "metadata": {
        "id": "view-in-github",
        "colab_type": "text"
      },
      "source": [
        "<a href=\"https://colab.research.google.com/github/pakoy3k/pyexamples/blob/main/conditional_logic/introduction_conditionals.ipynb\" target=\"_parent\"><img src=\"https://colab.research.google.com/assets/colab-badge.svg\" alt=\"Open In Colab\"/></a>"
      ]
    },
    {
      "cell_type": "markdown",
      "metadata": {
        "id": "X8IGxYpLFtRW"
      },
      "source": [
        "<font color=\"white\">.</font> | <font color=\"white\">.</font> | <font color=\"white\">.</font>\n",
        "-- | -- | --\n",
        "![NASA](http://www.nasa.gov/sites/all/themes/custom/nasatwo/images/nasa-logo.svg) | <h1><font size=\"+3\">ASTG Python Courses</font></h1> | ![NASA](https://www.nccs.nasa.gov/sites/default/files/NCCS_Logo_0.png)\n",
        "\n",
        "---\n",
        "\n",
        "<center><h1>\n",
        "    <font color=\"red\">Python Conditional Statements</font>  \n",
        "</h1></center>"
      ]
    },
    {
      "cell_type": "markdown",
      "metadata": {
        "id": "SNziqoMaFtRd"
      },
      "source": [
        "## Useful Links\n",
        "\n",
        "- <a href=\"https://realpython.com/python-conditional-statements/\">Conditional Statements in Python</a>\n",
        "- <a href=\"https://www.python-course.eu/python3_conditional_statements.php\"> Conditinal Statments </a>"
      ]
    },
    {
      "cell_type": "markdown",
      "metadata": {
        "id": "lxvux2vmFtRe"
      },
      "source": [
        "## What are Conditional Statements?\n",
        "\n",
        "- We make decisions all the time that affect our lives, from small (\"should I eat one cookie or two?\") to large (\"should I move to a new city?\")\n",
        "\n",
        "- Conditional statements allow us to represent such decision making in Python, from the choice that must be made (for example, \"one cookie or two\"), to the resulting outcome of those choices.\n",
        "\n",
        "\n",
        "![cond](https://mdn.mozillademos.org/files/13703/cookie-choice-small.png)\n",
        "Image Source: developer.mozilla.org\n",
        "\n",
        "**We use conditional statements when we want to execute a block of code when a given condition is true or false.**"
      ]
    },
    {
      "cell_type": "markdown",
      "metadata": {
        "id": "h7Bd-8_ZFtRg"
      },
      "source": [
        "# Booleans\n",
        "\n",
        "---\n",
        "\n",
        "Either `True` or `False` represent booleans. You can also use repsectively a 1 or 0 for binary booleans."
      ]
    },
    {
      "cell_type": "markdown",
      "metadata": {
        "id": "rCJmiwpTFtRh"
      },
      "source": [
        "# the `if` statement\n",
        "\n",
        "---\n",
        "\n",
        "```python\n",
        "if <expr>:\n",
        "   <statement>\n",
        "```\n",
        "\n",
        "In the form shown above:\n",
        "\n",
        "- `<expr>` is an expression evaluated in Boolean context.\n",
        "- `<statement>` is a valid Python statement, which must be indented. "
      ]
    },
    {
      "cell_type": "code",
      "execution_count": null,
      "metadata": {
        "id": "gINKsLhJFtRi"
      },
      "outputs": [],
      "source": [
        "x = 5\n",
        "y = 2"
      ]
    },
    {
      "cell_type": "code",
      "execution_count": null,
      "metadata": {
        "id": "FPKhn2QsFtRl"
      },
      "outputs": [],
      "source": [
        "if y < x: \n",
        "   print('yes')"
      ]
    },
    {
      "cell_type": "code",
      "execution_count": null,
      "metadata": {
        "id": "sWt_GDIbFtRn"
      },
      "outputs": [],
      "source": [
        "if x < y: \n",
        "   print('yes')"
      ]
    },
    {
      "cell_type": "markdown",
      "metadata": {
        "id": "Iqh-QcvPFtRo"
      },
      "source": [
        "# the `if`-`else` statement\n",
        "\n",
        "---\n",
        "\n",
        "```python\n",
        "if <expr>:\n",
        "   <statement> when the expression is true\n",
        "else:\n",
        "   <statement> when the expression is false\n",
        "    \n",
        "```\n",
        "\n",
        "![fig_ifelse](https://www.tutorialspoint.com/python/images/if_else_statement.jpg)\n",
        "Image Source: tutorialspoint.com"
      ]
    },
    {
      "cell_type": "markdown",
      "metadata": {
        "id": "HgK2zAZrFtRq"
      },
      "source": [
        "__Note:__ You cannot have an __`else`__ statement without an __`if`__ statement."
      ]
    },
    {
      "cell_type": "markdown",
      "metadata": {
        "id": "DeV3Z04dFtRq"
      },
      "source": [
        "**Example: Checking the Password**"
      ]
    },
    {
      "cell_type": "code",
      "execution_count": null,
      "metadata": {
        "id": "E5QyN9SGFtRr"
      },
      "outputs": [],
      "source": [
        "# Get a password from the user.\n",
        "password = input('Enter the password: ')\n",
        "\n",
        "# Determine whether the correct password was entered.\n",
        "\n",
        "if password == 'hello':\n",
        "    print('Great, you provided the right password!')\n",
        "else:\n",
        "    print('Sorry, that is the wrong password.')"
      ]
    },
    {
      "cell_type": "markdown",
      "metadata": {
        "id": "NLApSE16FtRs"
      },
      "source": [
        "# More Choices: the `elif` statement\n",
        "\n",
        "---\n",
        "\n",
        "```python\n",
        "if <expr1>:\n",
        "   <statement>\n",
        "elif <expr2>:\n",
        "   <statement>\n",
        "elif <expr3>:\n",
        "   <statement>\n",
        "# and so on\n",
        "```"
      ]
    },
    {
      "cell_type": "markdown",
      "metadata": {
        "id": "4rHZugIMFtRs"
      },
      "source": [
        "__Note:__ Notice that there is no __`else`__ statement above. It is not required, but the __`else`__ statement is availble to be used if all the above conditionasl evaluate to be False."
      ]
    },
    {
      "cell_type": "markdown",
      "metadata": {
        "id": "sVN8xEuxFtRt"
      },
      "source": [
        "**Example: Body Temperature**"
      ]
    },
    {
      "cell_type": "code",
      "execution_count": null,
      "metadata": {
        "id": "T7I4gYgXFtRu"
      },
      "outputs": [],
      "source": [
        "# provide the temperature of the patient.\n",
        "temp = float(input('Enter the temperature of the patient: '))\n",
        "\n",
        "if temp > 105.8:\n",
        "   print('The patient has a very high fever.')\n",
        "elif temp > 103.1:\n",
        "   print('The patient has a high fever.')\n",
        "elif temp > 100.4:\n",
        "   print('The patient has fever.')\n",
        "elif temp > 97.9:\n",
        "   print('The patient is fine.')\n",
        "else:\n",
        "    print('The temperature of the patient is low.')"
      ]
    },
    {
      "cell_type": "markdown",
      "metadata": {
        "id": "_PkynHKGFtRv"
      },
      "source": [
        "# Question:\n",
        "\n",
        "What python code is run in the example below?"
      ]
    },
    {
      "cell_type": "code",
      "execution_count": null,
      "metadata": {
        "id": "klVi1P0MFtRv"
      },
      "outputs": [],
      "source": [
        "a = 5\n",
        "if a > 10:\n",
        "    print('I am greater than 10.')\n",
        "elif a == 2:\n",
        "    print('My value is equal to 2.')\n",
        "elif not True:\n",
        "    print('I do not care about value, all I know is that I am not True.')"
      ]
    },
    {
      "cell_type": "markdown",
      "metadata": {
        "id": "ius0X0TxFtRw"
      },
      "source": [
        "# Conditional Testing\n",
        "\n",
        "---"
      ]
    },
    {
      "cell_type": "markdown",
      "metadata": {
        "id": "4MX3RIQwFtRx"
      },
      "source": [
        "There are various ways to insert booleans:\n",
        "\n",
        "- True/False\n",
        "- Variables (i.e. the value of variable)\n",
        "- Numbers (1 and greater is True; 0 is False)\n",
        "- Empty objects (you will learn more about these later; [], {}, None, '')\n",
        "- Comparisons between things:\n",
        "    - a > b\n",
        "    - a == b\n",
        "    - a >= b\n",
        "    - a != b\n",
        "    - a is b (be careful! this looks at the memory id of the object)\n",
        "    - a is not b\n",
        "    - a in b (works only in lists, strings, and other iterable objects)\n",
        "- Evaluated values (a + b)"
      ]
    },
    {
      "cell_type": "markdown",
      "metadata": {
        "id": "QvVpvQtGFtRy"
      },
      "source": [
        "## Python Ternary Operator (Shorthand `If…Else`)\n",
        "\n",
        "If we have an `if...else` block, we can use the ternary operator and write the `if...else` block in one line.\n",
        "\n",
        "```python\n",
        "   <statement if true> if <expr> else <statement if false>\n",
        "```"
      ]
    },
    {
      "cell_type": "code",
      "execution_count": null,
      "metadata": {
        "id": "V6xcuqWsFtRz"
      },
      "outputs": [],
      "source": [
        "a = 100\n",
        "b = 200\n",
        "print('A = {}'.format(a)) if a > b else print('B = {}'.format(b))"
      ]
    },
    {
      "cell_type": "code",
      "execution_count": null,
      "metadata": {
        "id": "umMEB8KoFtRz"
      },
      "outputs": [],
      "source": [
        ""
      ]
    },
    {
      "cell_type": "markdown",
      "metadata": {
        "id": "3kawGcNjFtR0"
      },
      "source": [
        "## Truth Value Testing\n",
        "\n",
        "Each Python built-in type has a __truthiness__ value that can be explicitly checked using the bool built-in function:"
      ]
    },
    {
      "cell_type": "code",
      "execution_count": null,
      "metadata": {
        "id": "DIONKFBnFtR1"
      },
      "outputs": [],
      "source": [
        "print(bool(0))\n",
        "print(bool(1))\n",
        "print(bool('Hello world!'))\n",
        "print(bool(\"\"))"
      ]
    },
    {
      "cell_type": "markdown",
      "metadata": {
        "id": "tdPRSdVeFtR1"
      },
      "source": [
        "Individual values can evaluate to either `True` or `False`."
      ]
    },
    {
      "cell_type": "markdown",
      "metadata": {
        "id": "RN5cQ6OeFtR2"
      },
      "source": [
        "This can be useful as when used in an `if` condition or as operand of the Boolean operations (and, or, not)\n",
        "\n",
        "- Some given names:\n",
        "    - Values that evaluate to `False` are considered **Falsy**.\n",
        "    - Values that evaluate to `True` are considered **Truthy**.\n",
        "    \n",
        "### Falsy Values\n",
        "\n",
        "| Sequences and Collections | Numbers | Constants |\n",
        "| --- | --- | --- | \n",
        "| Empty lists `list()` | Zero of any numeric type | `None` |\n",
        "| Empty tuples `tuple()` | Integer: `0` | `False` |\n",
        "| Empty dictionaries `dict()` | Float: `0.0` |  |\n",
        "| Empty sets `set()` | Complex: `0j` | |\n",
        "| Empty strings `\"\"` |  | |\n",
        "| Empty ranges `range(0)` | | |\n",
        "\n",
        "### Truthy Values\n",
        "\n",
        "- Non-empty sequences or collections (lists, tuples, strings, dictionaries, sets).\n",
        "- Numeric values that are not zero.\n",
        "- `True`\n",
        "\n",
        "\n",
        "Using the truthy and falsy concepts, the follwing code:\n",
        "\n",
        "```python\n",
        "    if len(my_list) != 0:\n",
        "       print(\"Not empty!\")\n",
        "```\n",
        "\n",
        "can be written as:\n",
        "\n",
        "```python\n",
        "    if my_list:\n",
        "       print(\"Not empty!\")\n",
        "```"
      ]
    },
    {
      "cell_type": "markdown",
      "metadata": {
        "id": "zDUj-sXGFtR2"
      },
      "source": [
        "## Breakout\n",
        "\n",
        "---\n",
        "\n",
        "We're going to create a simple traffic light with three options: Red, Yellow, and Green. \n",
        "\n",
        "![fig_traffic](https://www.allaboutcircuits.com/uploads/articles/trafficlightJPG.jpg)\n",
        "Image Source: Joseph Corleto (www.allaboutcircuits.com)\n",
        "\n",
        "Create three variables to store which lights are on. These variables will hold only True/False values, or you can get creative with the conditions you put in them.\n",
        "\n",
        "After setting the three variables, write one conditional per light to test the values of these and print out the street light as such:\n",
        "\n",
        "__Red: Off  \n",
        "Yellow: Off  \n",
        "Green: On__\n",
        "\n",
        "Don't worry about formatting either. As long as you can tell which ones are off/on, that's sufficient.\n",
        "\n",
        "It's a simple interface, but you can easily get more creative with this application.\n",
        "\n",
        "For instance, what if you named the variables top, middle, and bottom and still want to print out the color names, as before?"
      ]
    },
    {
      "cell_type": "markdown",
      "metadata": {
        "id": "fOtTWydwFtR3"
      },
      "source": [
        "## Combining Expressions"
      ]
    },
    {
      "cell_type": "code",
      "execution_count": null,
      "metadata": {
        "id": "35Ke_u4vFtR4"
      },
      "outputs": [],
      "source": [
        "a = 5\n",
        "b = 5\n",
        "c = 5\n",
        "\n",
        "if a != b and b != c and a != c:\n",
        "    print('This is a scalene triangle')\n",
        "elif a == b and b == c:\n",
        "    print('This is an equilateral triangle')\n",
        "else:\n",
        "    print('This is an isosceles triangle')"
      ]
    },
    {
      "cell_type": "code",
      "execution_count": null,
      "metadata": {
        "id": "iNgdjHEjFtR5"
      },
      "outputs": [],
      "source": [
        ""
      ]
    }
  ],
  "metadata": {
    "anaconda-cloud": {},
    "celltoolbar": "Slideshow",
    "kernelspec": {
      "display_name": "Python 3",
      "language": "python",
      "name": "python3"
    },
    "language_info": {
      "codemirror_mode": {
        "name": "ipython",
        "version": 3
      },
      "file_extension": ".py",
      "mimetype": "text/x-python",
      "name": "python",
      "nbconvert_exporter": "python",
      "pygments_lexer": "ipython3",
      "version": "3.7.3"
    },
    "colab": {
      "name": "introduction_conditionals.ipynb",
      "provenance": [],
      "include_colab_link": true
    }
  },
  "nbformat": 4,
  "nbformat_minor": 0
}